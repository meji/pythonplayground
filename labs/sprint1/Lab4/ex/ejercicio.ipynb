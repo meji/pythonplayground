{
 "cells": [
  {
   "cell_type": "markdown",
   "metadata": {},
   "source": [
    "# Ejercicio, Jesús Martñin Mejías"
   ]
  },
  {
   "cell_type": "code",
   "execution_count": 1,
   "metadata": {},
   "outputs": [],
   "source": [
    "import pandas as pd\n",
    "import numpy as np\n",
    "\n",
    "\n",
    "rn_state = 33 # random state for reproducibility"
   ]
  },
  {
   "cell_type": "markdown",
   "metadata": {},
   "source": [
    "# Ejercicio 1 Predicción de enfermedades cardiovasculares\n",
    "Se ha desarrollado un nuevo sistema de detección temprana\n",
    "de patologías cardiovasculares. Sin embargo, hacer la\n",
    "prueba y el diagnóstico es un proceso costoso y lento. Por lo\n",
    "tanto, tu compañía te pide desarrollar un algoritmo para\n",
    "eliminar casos que no requieren de una detección tan fina.\n",
    "Se te pide:\n",
    "1. Seleccionar un algoritmo que ya hayamos estudiado\n",
    "para poder detectar pacientes con o sin patología\n",
    "cardiovascular.\n",
    "2. Mostrar resultados de tu algoritmo, intentando\n",
    "responder a las peticiones concretas de vuestro cliente.\n",
    "3. Investigar otros posibles algoritmos fuera de los\n",
    "estudiados como otras alternativas. También te\n",
    "proponemos una tarea opcional: implementar uno de\n",
    "estos algoritmos."
   ]
  },
  {
   "cell_type": "markdown",
   "metadata": {},
   "source": [
    "# Carga y Preparación de datos"
   ]
  },
  {
   "cell_type": "code",
   "execution_count": 2,
   "metadata": {},
   "outputs": [
    {
     "name": "stdout",
     "output_type": "stream",
     "text": [
      "<class 'pandas.core.frame.DataFrame'>\n",
      "RangeIndex: 1000 entries, 0 to 999\n",
      "Data columns (total 14 columns):\n",
      " #   Column             Non-Null Count  Dtype  \n",
      "---  ------             --------------  -----  \n",
      " 0   patientid          1000 non-null   int64  \n",
      " 1   age                1000 non-null   int64  \n",
      " 2   gender             1000 non-null   int64  \n",
      " 3   chestpain          1000 non-null   int64  \n",
      " 4   restingBP          1000 non-null   int64  \n",
      " 5   serumcholestrol    1000 non-null   int64  \n",
      " 6   fastingbloodsugar  1000 non-null   int64  \n",
      " 7   restingrelectro    1000 non-null   int64  \n",
      " 8   maxheartrate       1000 non-null   int64  \n",
      " 9   exerciseangia      1000 non-null   int64  \n",
      " 10  oldpeak            1000 non-null   float64\n",
      " 11  slope              1000 non-null   int64  \n",
      " 12  noofmajorvessels   1000 non-null   int64  \n",
      " 13  target             1000 non-null   int64  \n",
      "dtypes: float64(1), int64(13)\n",
      "memory usage: 109.5 KB\n"
     ]
    }
   ],
   "source": [
    "df = pd.read_csv('data/Cardiovascular_Disease_dataset.csv')\n",
    "df.info()"
   ]
  },
  {
   "cell_type": "code",
   "execution_count": 3,
   "metadata": {},
   "outputs": [
    {
     "data": {
      "text/plain": [
       "target\n",
       "1    580\n",
       "0    420\n",
       "Name: count, dtype: int64"
      ]
     },
     "execution_count": 3,
     "metadata": {},
     "output_type": "execute_result"
    }
   ],
   "source": [
    "df['target'].value_counts()"
   ]
  },
  {
   "cell_type": "markdown",
   "metadata": {},
   "source": [
    "# Limpieza de datos\n",
    "Quito las columnas no necesarias para entrenar el modelo, como id, y verifico si hay datos con NaN"
   ]
  },
  {
   "cell_type": "code",
   "execution_count": 4,
   "metadata": {},
   "outputs": [
    {
     "data": {
      "text/html": [
       "<div>\n",
       "<style scoped>\n",
       "    .dataframe tbody tr th:only-of-type {\n",
       "        vertical-align: middle;\n",
       "    }\n",
       "\n",
       "    .dataframe tbody tr th {\n",
       "        vertical-align: top;\n",
       "    }\n",
       "\n",
       "    .dataframe thead th {\n",
       "        text-align: right;\n",
       "    }\n",
       "</style>\n",
       "<table border=\"1\" class=\"dataframe\">\n",
       "  <thead>\n",
       "    <tr style=\"text-align: right;\">\n",
       "      <th></th>\n",
       "      <th>age</th>\n",
       "      <th>gender</th>\n",
       "      <th>chestpain</th>\n",
       "      <th>restingBP</th>\n",
       "      <th>serumcholestrol</th>\n",
       "      <th>fastingbloodsugar</th>\n",
       "      <th>restingrelectro</th>\n",
       "      <th>maxheartrate</th>\n",
       "      <th>exerciseangia</th>\n",
       "      <th>oldpeak</th>\n",
       "      <th>slope</th>\n",
       "      <th>noofmajorvessels</th>\n",
       "      <th>target</th>\n",
       "    </tr>\n",
       "  </thead>\n",
       "  <tbody>\n",
       "    <tr>\n",
       "      <th>0</th>\n",
       "      <td>53</td>\n",
       "      <td>1</td>\n",
       "      <td>2</td>\n",
       "      <td>171</td>\n",
       "      <td>0</td>\n",
       "      <td>0</td>\n",
       "      <td>1</td>\n",
       "      <td>147</td>\n",
       "      <td>0</td>\n",
       "      <td>5.3</td>\n",
       "      <td>3</td>\n",
       "      <td>3</td>\n",
       "      <td>1</td>\n",
       "    </tr>\n",
       "    <tr>\n",
       "      <th>1</th>\n",
       "      <td>40</td>\n",
       "      <td>1</td>\n",
       "      <td>0</td>\n",
       "      <td>94</td>\n",
       "      <td>229</td>\n",
       "      <td>0</td>\n",
       "      <td>1</td>\n",
       "      <td>115</td>\n",
       "      <td>0</td>\n",
       "      <td>3.7</td>\n",
       "      <td>1</td>\n",
       "      <td>1</td>\n",
       "      <td>0</td>\n",
       "    </tr>\n",
       "    <tr>\n",
       "      <th>2</th>\n",
       "      <td>49</td>\n",
       "      <td>1</td>\n",
       "      <td>2</td>\n",
       "      <td>133</td>\n",
       "      <td>142</td>\n",
       "      <td>0</td>\n",
       "      <td>0</td>\n",
       "      <td>202</td>\n",
       "      <td>1</td>\n",
       "      <td>5.0</td>\n",
       "      <td>1</td>\n",
       "      <td>0</td>\n",
       "      <td>0</td>\n",
       "    </tr>\n",
       "    <tr>\n",
       "      <th>3</th>\n",
       "      <td>43</td>\n",
       "      <td>1</td>\n",
       "      <td>0</td>\n",
       "      <td>138</td>\n",
       "      <td>295</td>\n",
       "      <td>1</td>\n",
       "      <td>1</td>\n",
       "      <td>153</td>\n",
       "      <td>0</td>\n",
       "      <td>3.2</td>\n",
       "      <td>2</td>\n",
       "      <td>2</td>\n",
       "      <td>1</td>\n",
       "    </tr>\n",
       "    <tr>\n",
       "      <th>4</th>\n",
       "      <td>31</td>\n",
       "      <td>1</td>\n",
       "      <td>1</td>\n",
       "      <td>199</td>\n",
       "      <td>0</td>\n",
       "      <td>0</td>\n",
       "      <td>2</td>\n",
       "      <td>136</td>\n",
       "      <td>0</td>\n",
       "      <td>5.3</td>\n",
       "      <td>3</td>\n",
       "      <td>2</td>\n",
       "      <td>1</td>\n",
       "    </tr>\n",
       "  </tbody>\n",
       "</table>\n",
       "</div>"
      ],
      "text/plain": [
       "   age  gender  chestpain  restingBP  serumcholestrol  fastingbloodsugar  \\\n",
       "0   53       1          2        171                0                  0   \n",
       "1   40       1          0         94              229                  0   \n",
       "2   49       1          2        133              142                  0   \n",
       "3   43       1          0        138              295                  1   \n",
       "4   31       1          1        199                0                  0   \n",
       "\n",
       "   restingrelectro  maxheartrate  exerciseangia  oldpeak  slope  \\\n",
       "0                1           147              0      5.3      3   \n",
       "1                1           115              0      3.7      1   \n",
       "2                0           202              1      5.0      1   \n",
       "3                1           153              0      3.2      2   \n",
       "4                2           136              0      5.3      3   \n",
       "\n",
       "   noofmajorvessels  target  \n",
       "0                 3       1  \n",
       "1                 1       0  \n",
       "2                 0       0  \n",
       "3                 2       1  \n",
       "4                 2       1  "
      ]
     },
     "execution_count": 4,
     "metadata": {},
     "output_type": "execute_result"
    }
   ],
   "source": [
    "df_clean = df.drop(columns=['patientid']) # drop patient_id column\n",
    "df_clean.isna().sum()\n",
    "df_clean.head()\n"
   ]
  },
  {
   "cell_type": "markdown",
   "metadata": {},
   "source": [
    "Este dataset ya está limpio, por lo que tan sólo necesitamos dividirlo en train y test."
   ]
  },
  {
   "cell_type": "code",
   "execution_count": 5,
   "metadata": {},
   "outputs": [],
   "source": [
    "from sklearn.model_selection import train_test_split\n",
    "X_train, X_test, y_train, y_test = train_test_split(\n",
    "    df_clean.drop(columns=['target']), \n",
    "    df_clean['target'], \n",
    "    test_size=0.2, \n",
    "    random_state=rn_state)"
   ]
  },
  {
   "cell_type": "markdown",
   "metadata": {},
   "source": [
    "## Árboles de decisión"
   ]
  },
  {
   "cell_type": "markdown",
   "metadata": {},
   "source": [
    "Empezaremos estudiando los árboles de decisión, que son un modelo muy sencillo de entender y que nos permitirá ver cómo se comportan los modelos de clasificación.\n",
    "Una vez más usaremos la librería de scikit-learn. Y veremos que el uso de los modelos es igual."
   ]
  },
  {
   "cell_type": "code",
   "execution_count": 6,
   "metadata": {},
   "outputs": [
    {
     "data": {
      "text/html": [
       "<style>#sk-container-id-1 {color: black;}#sk-container-id-1 pre{padding: 0;}#sk-container-id-1 div.sk-toggleable {background-color: white;}#sk-container-id-1 label.sk-toggleable__label {cursor: pointer;display: block;width: 100%;margin-bottom: 0;padding: 0.3em;box-sizing: border-box;text-align: center;}#sk-container-id-1 label.sk-toggleable__label-arrow:before {content: \"▸\";float: left;margin-right: 0.25em;color: #696969;}#sk-container-id-1 label.sk-toggleable__label-arrow:hover:before {color: black;}#sk-container-id-1 div.sk-estimator:hover label.sk-toggleable__label-arrow:before {color: black;}#sk-container-id-1 div.sk-toggleable__content {max-height: 0;max-width: 0;overflow: hidden;text-align: left;background-color: #f0f8ff;}#sk-container-id-1 div.sk-toggleable__content pre {margin: 0.2em;color: black;border-radius: 0.25em;background-color: #f0f8ff;}#sk-container-id-1 input.sk-toggleable__control:checked~div.sk-toggleable__content {max-height: 200px;max-width: 100%;overflow: auto;}#sk-container-id-1 input.sk-toggleable__control:checked~label.sk-toggleable__label-arrow:before {content: \"▾\";}#sk-container-id-1 div.sk-estimator input.sk-toggleable__control:checked~label.sk-toggleable__label {background-color: #d4ebff;}#sk-container-id-1 div.sk-label input.sk-toggleable__control:checked~label.sk-toggleable__label {background-color: #d4ebff;}#sk-container-id-1 input.sk-hidden--visually {border: 0;clip: rect(1px 1px 1px 1px);clip: rect(1px, 1px, 1px, 1px);height: 1px;margin: -1px;overflow: hidden;padding: 0;position: absolute;width: 1px;}#sk-container-id-1 div.sk-estimator {font-family: monospace;background-color: #f0f8ff;border: 1px dotted black;border-radius: 0.25em;box-sizing: border-box;margin-bottom: 0.5em;}#sk-container-id-1 div.sk-estimator:hover {background-color: #d4ebff;}#sk-container-id-1 div.sk-parallel-item::after {content: \"\";width: 100%;border-bottom: 1px solid gray;flex-grow: 1;}#sk-container-id-1 div.sk-label:hover label.sk-toggleable__label {background-color: #d4ebff;}#sk-container-id-1 div.sk-serial::before {content: \"\";position: absolute;border-left: 1px solid gray;box-sizing: border-box;top: 0;bottom: 0;left: 50%;z-index: 0;}#sk-container-id-1 div.sk-serial {display: flex;flex-direction: column;align-items: center;background-color: white;padding-right: 0.2em;padding-left: 0.2em;position: relative;}#sk-container-id-1 div.sk-item {position: relative;z-index: 1;}#sk-container-id-1 div.sk-parallel {display: flex;align-items: stretch;justify-content: center;background-color: white;position: relative;}#sk-container-id-1 div.sk-item::before, #sk-container-id-1 div.sk-parallel-item::before {content: \"\";position: absolute;border-left: 1px solid gray;box-sizing: border-box;top: 0;bottom: 0;left: 50%;z-index: -1;}#sk-container-id-1 div.sk-parallel-item {display: flex;flex-direction: column;z-index: 1;position: relative;background-color: white;}#sk-container-id-1 div.sk-parallel-item:first-child::after {align-self: flex-end;width: 50%;}#sk-container-id-1 div.sk-parallel-item:last-child::after {align-self: flex-start;width: 50%;}#sk-container-id-1 div.sk-parallel-item:only-child::after {width: 0;}#sk-container-id-1 div.sk-dashed-wrapped {border: 1px dashed gray;margin: 0 0.4em 0.5em 0.4em;box-sizing: border-box;padding-bottom: 0.4em;background-color: white;}#sk-container-id-1 div.sk-label label {font-family: monospace;font-weight: bold;display: inline-block;line-height: 1.2em;}#sk-container-id-1 div.sk-label-container {text-align: center;}#sk-container-id-1 div.sk-container {/* jupyter's `normalize.less` sets `[hidden] { display: none; }` but bootstrap.min.css set `[hidden] { display: none !important; }` so we also need the `!important` here to be able to override the default hidden behavior on the sphinx rendered scikit-learn.org. See: https://github.com/scikit-learn/scikit-learn/issues/21755 */display: inline-block !important;position: relative;}#sk-container-id-1 div.sk-text-repr-fallback {display: none;}</style><div id=\"sk-container-id-1\" class=\"sk-top-container\"><div class=\"sk-text-repr-fallback\"><pre>DecisionTreeClassifier(random_state=33)</pre><b>In a Jupyter environment, please rerun this cell to show the HTML representation or trust the notebook. <br />On GitHub, the HTML representation is unable to render, please try loading this page with nbviewer.org.</b></div><div class=\"sk-container\" hidden><div class=\"sk-item\"><div class=\"sk-estimator sk-toggleable\"><input class=\"sk-toggleable__control sk-hidden--visually\" id=\"sk-estimator-id-1\" type=\"checkbox\" checked><label for=\"sk-estimator-id-1\" class=\"sk-toggleable__label sk-toggleable__label-arrow\">DecisionTreeClassifier</label><div class=\"sk-toggleable__content\"><pre>DecisionTreeClassifier(random_state=33)</pre></div></div></div></div></div>"
      ],
      "text/plain": [
       "DecisionTreeClassifier(random_state=33)"
      ]
     },
     "execution_count": 6,
     "metadata": {},
     "output_type": "execute_result"
    }
   ],
   "source": [
    "from sklearn import tree \n",
    "\n",
    "DT = tree.DecisionTreeClassifier(random_state=rn_state)\n",
    "DT.fit(X_train, y_train)\n"
   ]
  },
  {
   "cell_type": "markdown",
   "metadata": {},
   "source": [
    "Vamos a ver el score que es el accuracy del modelo"
   ]
  },
  {
   "cell_type": "code",
   "execution_count": 7,
   "metadata": {},
   "outputs": [
    {
     "name": "stdout",
     "output_type": "stream",
     "text": [
      "Accuracy en entrenamiento 1.00\n",
      "Accuracy en test 0.92\n"
     ]
    }
   ],
   "source": [
    "print('Accuracy en entrenamiento %.2f'%DT.score(X_train, y_train))\n",
    "print('Accuracy en test %.2f'%DT.score(X_test, y_test))"
   ]
  },
  {
   "cell_type": "markdown",
   "metadata": {},
   "source": [
    "Tenemos un accuracy perfecto tanto en entrenamiento pero de 92 en test,por lo que en el test comete un 8% de fallos"
   ]
  },
  {
   "cell_type": "markdown",
   "metadata": {},
   "source": [
    "Una ventaja de los árboles de decisión es que podemos visualizarlos"
   ]
  },
  {
   "cell_type": "code",
   "execution_count": 8,
   "metadata": {},
   "outputs": [
    {
     "data": {
      "text/plain": [
       "[Text(0.5597014925373134, 0.9545454545454546, 'slope <= 1.5\\ngini = 0.493\\nsamples = 800\\nvalue = [353, 447]\\nclass = 0'),\n",
       " Text(0.3283582089552239, 0.8636363636363636, 'chestpain <= 1.5\\ngini = 0.225\\nsamples = 394\\nvalue = [343, 51]\\nclass = 1'),\n",
       " Text(0.16417910447761194, 0.7727272727272727, 'serumcholestrol <= 66.0\\ngini = 0.122\\nsamples = 338\\nvalue = [316, 22]\\nclass = 1'),\n",
       " Text(0.13432835820895522, 0.6818181818181818, 'gini = 0.0\\nsamples = 5\\nvalue = [0, 5]\\nclass = 0'),\n",
       " Text(0.19402985074626866, 0.6818181818181818, 'serumcholestrol <= 466.0\\ngini = 0.097\\nsamples = 333\\nvalue = [316, 17]\\nclass = 1'),\n",
       " Text(0.16417910447761194, 0.5909090909090909, 'restingBP <= 166.0\\ngini = 0.076\\nsamples = 329\\nvalue = [316, 13]\\nclass = 1'),\n",
       " Text(0.05970149253731343, 0.5, 'restingrelectro <= 1.5\\ngini = 0.007\\nsamples = 281\\nvalue = [280, 1]\\nclass = 1'),\n",
       " Text(0.029850746268656716, 0.4090909090909091, 'gini = 0.0\\nsamples = 274\\nvalue = [274, 0]\\nclass = 1'),\n",
       " Text(0.08955223880597014, 0.4090909090909091, 'oldpeak <= 0.5\\ngini = 0.245\\nsamples = 7\\nvalue = [6, 1]\\nclass = 1'),\n",
       " Text(0.05970149253731343, 0.3181818181818182, 'gini = 0.0\\nsamples = 1\\nvalue = [0, 1]\\nclass = 0'),\n",
       " Text(0.11940298507462686, 0.3181818181818182, 'gini = 0.0\\nsamples = 6\\nvalue = [6, 0]\\nclass = 1'),\n",
       " Text(0.26865671641791045, 0.5, 'fastingbloodsugar <= 0.5\\ngini = 0.375\\nsamples = 48\\nvalue = [36, 12]\\nclass = 1'),\n",
       " Text(0.208955223880597, 0.4090909090909091, 'restingBP <= 169.5\\ngini = 0.064\\nsamples = 30\\nvalue = [29, 1]\\nclass = 1'),\n",
       " Text(0.1791044776119403, 0.3181818181818182, 'oldpeak <= 1.55\\ngini = 0.5\\nsamples = 2\\nvalue = [1, 1]\\nclass = 1'),\n",
       " Text(0.14925373134328357, 0.22727272727272727, 'gini = 0.0\\nsamples = 1\\nvalue = [1, 0]\\nclass = 1'),\n",
       " Text(0.208955223880597, 0.22727272727272727, 'gini = 0.0\\nsamples = 1\\nvalue = [0, 1]\\nclass = 0'),\n",
       " Text(0.23880597014925373, 0.3181818181818182, 'gini = 0.0\\nsamples = 28\\nvalue = [28, 0]\\nclass = 1'),\n",
       " Text(0.3283582089552239, 0.4090909090909091, 'oldpeak <= 2.75\\ngini = 0.475\\nsamples = 18\\nvalue = [7, 11]\\nclass = 0'),\n",
       " Text(0.29850746268656714, 0.3181818181818182, 'slope <= 0.5\\ngini = 0.337\\nsamples = 14\\nvalue = [3, 11]\\nclass = 0'),\n",
       " Text(0.26865671641791045, 0.22727272727272727, 'gini = 0.0\\nsamples = 2\\nvalue = [2, 0]\\nclass = 1'),\n",
       " Text(0.3283582089552239, 0.22727272727272727, 'noofmajorvessels <= 2.5\\ngini = 0.153\\nsamples = 12\\nvalue = [1, 11]\\nclass = 0'),\n",
       " Text(0.29850746268656714, 0.13636363636363635, 'gini = 0.0\\nsamples = 11\\nvalue = [0, 11]\\nclass = 0'),\n",
       " Text(0.3582089552238806, 0.13636363636363635, 'gini = 0.0\\nsamples = 1\\nvalue = [1, 0]\\nclass = 1'),\n",
       " Text(0.3582089552238806, 0.3181818181818182, 'gini = 0.0\\nsamples = 4\\nvalue = [4, 0]\\nclass = 1'),\n",
       " Text(0.22388059701492538, 0.5909090909090909, 'gini = 0.0\\nsamples = 4\\nvalue = [0, 4]\\nclass = 0'),\n",
       " Text(0.4925373134328358, 0.7727272727272727, 'oldpeak <= 2.35\\ngini = 0.499\\nsamples = 56\\nvalue = [27, 29]\\nclass = 0'),\n",
       " Text(0.4626865671641791, 0.6818181818181818, 'slope <= 0.5\\ngini = 0.449\\nsamples = 44\\nvalue = [15, 29]\\nclass = 0'),\n",
       " Text(0.43283582089552236, 0.5909090909090909, 'gini = 0.0\\nsamples = 7\\nvalue = [7, 0]\\nclass = 1'),\n",
       " Text(0.4925373134328358, 0.5909090909090909, 'maxheartrate <= 106.0\\ngini = 0.339\\nsamples = 37\\nvalue = [8, 29]\\nclass = 0'),\n",
       " Text(0.4626865671641791, 0.5, 'gini = 0.0\\nsamples = 4\\nvalue = [4, 0]\\nclass = 1'),\n",
       " Text(0.5223880597014925, 0.5, 'noofmajorvessels <= 2.5\\ngini = 0.213\\nsamples = 33\\nvalue = [4, 29]\\nclass = 0'),\n",
       " Text(0.4925373134328358, 0.4090909090909091, 'oldpeak <= 0.25\\ngini = 0.17\\nsamples = 32\\nvalue = [3, 29]\\nclass = 0'),\n",
       " Text(0.417910447761194, 0.3181818181818182, 'restingrelectro <= 0.5\\ngini = 0.5\\nsamples = 2\\nvalue = [1, 1]\\nclass = 1'),\n",
       " Text(0.3880597014925373, 0.22727272727272727, 'gini = 0.0\\nsamples = 1\\nvalue = [1, 0]\\nclass = 1'),\n",
       " Text(0.44776119402985076, 0.22727272727272727, 'gini = 0.0\\nsamples = 1\\nvalue = [0, 1]\\nclass = 0'),\n",
       " Text(0.5671641791044776, 0.3181818181818182, 'oldpeak <= 2.25\\ngini = 0.124\\nsamples = 30\\nvalue = [2, 28]\\nclass = 0'),\n",
       " Text(0.5074626865671642, 0.22727272727272727, 'maxheartrate <= 184.0\\ngini = 0.071\\nsamples = 27\\nvalue = [1, 26]\\nclass = 0'),\n",
       " Text(0.47761194029850745, 0.13636363636363635, 'gini = 0.0\\nsamples = 23\\nvalue = [0, 23]\\nclass = 0'),\n",
       " Text(0.5373134328358209, 0.13636363636363635, 'maxheartrate <= 190.0\\ngini = 0.375\\nsamples = 4\\nvalue = [1, 3]\\nclass = 0'),\n",
       " Text(0.5074626865671642, 0.045454545454545456, 'gini = 0.0\\nsamples = 1\\nvalue = [1, 0]\\nclass = 1'),\n",
       " Text(0.5671641791044776, 0.045454545454545456, 'gini = 0.0\\nsamples = 3\\nvalue = [0, 3]\\nclass = 0'),\n",
       " Text(0.6268656716417911, 0.22727272727272727, 'gender <= 0.5\\ngini = 0.444\\nsamples = 3\\nvalue = [1, 2]\\nclass = 0'),\n",
       " Text(0.5970149253731343, 0.13636363636363635, 'gini = 0.0\\nsamples = 1\\nvalue = [1, 0]\\nclass = 1'),\n",
       " Text(0.6567164179104478, 0.13636363636363635, 'gini = 0.0\\nsamples = 2\\nvalue = [0, 2]\\nclass = 0'),\n",
       " Text(0.5522388059701493, 0.4090909090909091, 'gini = 0.0\\nsamples = 1\\nvalue = [1, 0]\\nclass = 1'),\n",
       " Text(0.5223880597014925, 0.6818181818181818, 'gini = 0.0\\nsamples = 12\\nvalue = [12, 0]\\nclass = 1'),\n",
       " Text(0.7910447761194029, 0.8636363636363636, 'oldpeak <= 5.45\\ngini = 0.048\\nsamples = 406\\nvalue = [10, 396]\\nclass = 0'),\n",
       " Text(0.7313432835820896, 0.7727272727272727, 'noofmajorvessels <= 0.5\\ngini = 0.011\\nsamples = 358\\nvalue = [2, 356]\\nclass = 0'),\n",
       " Text(0.7014925373134329, 0.6818181818181818, 'age <= 78.0\\ngini = 0.147\\nsamples = 25\\nvalue = [2, 23]\\nclass = 0'),\n",
       " Text(0.6716417910447762, 0.5909090909090909, 'age <= 28.5\\ngini = 0.08\\nsamples = 24\\nvalue = [1, 23]\\nclass = 0'),\n",
       " Text(0.6417910447761194, 0.5, 'maxheartrate <= 134.5\\ngini = 0.32\\nsamples = 5\\nvalue = [1, 4]\\nclass = 0'),\n",
       " Text(0.6119402985074627, 0.4090909090909091, 'gini = 0.0\\nsamples = 1\\nvalue = [1, 0]\\nclass = 1'),\n",
       " Text(0.6716417910447762, 0.4090909090909091, 'gini = 0.0\\nsamples = 4\\nvalue = [0, 4]\\nclass = 0'),\n",
       " Text(0.7014925373134329, 0.5, 'gini = 0.0\\nsamples = 19\\nvalue = [0, 19]\\nclass = 0'),\n",
       " Text(0.7313432835820896, 0.5909090909090909, 'gini = 0.0\\nsamples = 1\\nvalue = [1, 0]\\nclass = 1'),\n",
       " Text(0.7611940298507462, 0.6818181818181818, 'gini = 0.0\\nsamples = 333\\nvalue = [0, 333]\\nclass = 0'),\n",
       " Text(0.8507462686567164, 0.7727272727272727, 'noofmajorvessels <= 0.5\\ngini = 0.278\\nsamples = 48\\nvalue = [8, 40]\\nclass = 0'),\n",
       " Text(0.8208955223880597, 0.6818181818181818, 'gini = 0.0\\nsamples = 4\\nvalue = [4, 0]\\nclass = 1'),\n",
       " Text(0.8805970149253731, 0.6818181818181818, 'restingBP <= 129.5\\ngini = 0.165\\nsamples = 44\\nvalue = [4, 40]\\nclass = 0'),\n",
       " Text(0.8208955223880597, 0.5909090909090909, 'chestpain <= 1.5\\ngini = 0.5\\nsamples = 6\\nvalue = [3, 3]\\nclass = 1'),\n",
       " Text(0.7910447761194029, 0.5, 'gini = 0.0\\nsamples = 3\\nvalue = [3, 0]\\nclass = 1'),\n",
       " Text(0.8507462686567164, 0.5, 'gini = 0.0\\nsamples = 3\\nvalue = [0, 3]\\nclass = 0'),\n",
       " Text(0.9402985074626866, 0.5909090909090909, 'restingBP <= 199.0\\ngini = 0.051\\nsamples = 38\\nvalue = [1, 37]\\nclass = 0'),\n",
       " Text(0.9104477611940298, 0.5, 'gini = 0.0\\nsamples = 37\\nvalue = [0, 37]\\nclass = 0'),\n",
       " Text(0.9701492537313433, 0.5, 'gini = 0.0\\nsamples = 1\\nvalue = [1, 0]\\nclass = 1')]"
      ]
     },
     "execution_count": 8,
     "metadata": {},
     "output_type": "execute_result"
    },
    {
     "data": {
      "image/png": "[encoded data removed]",
      "text/plain": [
       "<Figure size 640x480 with 1 Axes>"
      ]
     },
     "metadata": {},
     "output_type": "display_data"
    }
   ],
   "source": [
    "tree.plot_tree(DT,\n",
    "               feature_names=X_train.columns.astype(str).tolist(),\n",
    "               class_names=df_clean['target'].unique().astype(str).tolist(),\n",
    "               filled=True,\n",
    "               rounded=True)"
   ]
  },
  {
   "cell_type": "markdown",
   "metadata": {},
   "source": [
    "Ahora sí vemos que nuestro accuracy no es perfecto, pero no sabemos en qué fallamos. Para ello podemos usar las otras métricas que hemos visto"
   ]
  },
  {
   "cell_type": "code",
   "execution_count": 9,
   "metadata": {},
   "outputs": [
    {
     "name": "stdout",
     "output_type": "stream",
     "text": [
      "precision: 0.96\n",
      "recall: 0.91\n",
      "f1: 0.93\n"
     ]
    }
   ],
   "source": [
    "from sklearn.metrics import precision_score, recall_score, f1_score\n",
    "\n",
    "y_predicted = DT.predict(X_test)\n",
    "print('precision: %.2f' % precision_score(y_test, y_predicted))\n",
    "print('recall: %.2f' % recall_score(y_test, y_predicted))\n",
    "print('f1: %.2f' % f1_score(y_test, y_predicted))"
   ]
  },
  {
   "cell_type": "markdown",
   "metadata": {},
   "source": [
    "Vemos una precisión alta pero un recall más bajo\n",
    "Lo que nos indica que no siempre detectamos a todos los que tienen una enfermedad cardiovascular, pero cuando lo hacemos, es muy probable que sea cierto."
   ]
  },
  {
   "cell_type": "markdown",
   "metadata": {},
   "source": [
    "Otra forma de visualizarlo es con una matriz de confusión"
   ]
  },
  {
   "cell_type": "code",
   "execution_count": 10,
   "metadata": {},
   "outputs": [
    {
     "data": {
      "image/png": "[encoded data removed]",
      "text/plain": [
       "<Figure size 640x480 with 2 Axes>"
      ]
     },
     "metadata": {},
     "output_type": "display_data"
    }
   ],
   "source": [
    "from matplotlib import pyplot as plt\n",
    "from sklearn.metrics import confusion_matrix, ConfusionMatrixDisplay\n",
    "cm = confusion_matrix(y_test, y_predicted, labels=DT.classes_)\n",
    "disp = ConfusionMatrixDisplay(confusion_matrix=cm, display_labels=DT.classes_)\n",
    "disp.plot()\n",
    "plt.show()"
   ]
  },
  {
   "cell_type": "markdown",
   "metadata": {},
   "source": [
    "De aquí vemos que tenemos una muy alta probabiidad de detectar los que si tienen una enfermedad cardiovascular"
   ]
  },
  {
   "cell_type": "code",
   "execution_count": 11,
   "metadata": {},
   "outputs": [
    {
     "data": {
      "text/plain": [
       "[Text(0.5597014925373134, 0.9545454545454546, 'slope <= 1.5\\ngini = 0.493\\nsamples = 800\\nvalue = [353, 447]\\nclass = 0'),\n",
       " Text(0.3283582089552239, 0.8636363636363636, 'chestpain <= 1.5\\ngini = 0.225\\nsamples = 394\\nvalue = [343, 51]\\nclass = 1'),\n",
       " Text(0.16417910447761194, 0.7727272727272727, 'serumcholestrol <= 66.0\\ngini = 0.122\\nsamples = 338\\nvalue = [316, 22]\\nclass = 1'),\n",
       " Text(0.13432835820895522, 0.6818181818181818, 'gini = 0.0\\nsamples = 5\\nvalue = [0, 5]\\nclass = 0'),\n",
       " Text(0.19402985074626866, 0.6818181818181818, 'serumcholestrol <= 466.0\\ngini = 0.097\\nsamples = 333\\nvalue = [316, 17]\\nclass = 1'),\n",
       " Text(0.16417910447761194, 0.5909090909090909, 'restingBP <= 166.0\\ngini = 0.076\\nsamples = 329\\nvalue = [316, 13]\\nclass = 1'),\n",
       " Text(0.05970149253731343, 0.5, 'restingrelectro <= 1.5\\ngini = 0.007\\nsamples = 281\\nvalue = [280, 1]\\nclass = 1'),\n",
       " Text(0.029850746268656716, 0.4090909090909091, 'gini = 0.0\\nsamples = 274\\nvalue = [274, 0]\\nclass = 1'),\n",
       " Text(0.08955223880597014, 0.4090909090909091, 'oldpeak <= 0.5\\ngini = 0.245\\nsamples = 7\\nvalue = [6, 1]\\nclass = 1'),\n",
       " Text(0.05970149253731343, 0.3181818181818182, 'gini = 0.0\\nsamples = 1\\nvalue = [0, 1]\\nclass = 0'),\n",
       " Text(0.11940298507462686, 0.3181818181818182, 'gini = 0.0\\nsamples = 6\\nvalue = [6, 0]\\nclass = 1'),\n",
       " Text(0.26865671641791045, 0.5, 'fastingbloodsugar <= 0.5\\ngini = 0.375\\nsamples = 48\\nvalue = [36, 12]\\nclass = 1'),\n",
       " Text(0.208955223880597, 0.4090909090909091, 'restingBP <= 169.5\\ngini = 0.064\\nsamples = 30\\nvalue = [29, 1]\\nclass = 1'),\n",
       " Text(0.1791044776119403, 0.3181818181818182, 'oldpeak <= 1.55\\ngini = 0.5\\nsamples = 2\\nvalue = [1, 1]\\nclass = 1'),\n",
       " Text(0.14925373134328357, 0.22727272727272727, 'gini = 0.0\\nsamples = 1\\nvalue = [1, 0]\\nclass = 1'),\n",
       " Text(0.208955223880597, 0.22727272727272727, 'gini = 0.0\\nsamples = 1\\nvalue = [0, 1]\\nclass = 0'),\n",
       " Text(0.23880597014925373, 0.3181818181818182, 'gini = 0.0\\nsamples = 28\\nvalue = [28, 0]\\nclass = 1'),\n",
       " Text(0.3283582089552239, 0.4090909090909091, 'oldpeak <= 2.75\\ngini = 0.475\\nsamples = 18\\nvalue = [7, 11]\\nclass = 0'),\n",
       " Text(0.29850746268656714, 0.3181818181818182, 'slope <= 0.5\\ngini = 0.337\\nsamples = 14\\nvalue = [3, 11]\\nclass = 0'),\n",
       " Text(0.26865671641791045, 0.22727272727272727, 'gini = 0.0\\nsamples = 2\\nvalue = [2, 0]\\nclass = 1'),\n",
       " Text(0.3283582089552239, 0.22727272727272727, 'noofmajorvessels <= 2.5\\ngini = 0.153\\nsamples = 12\\nvalue = [1, 11]\\nclass = 0'),\n",
       " Text(0.29850746268656714, 0.13636363636363635, 'gini = 0.0\\nsamples = 11\\nvalue = [0, 11]\\nclass = 0'),\n",
       " Text(0.3582089552238806, 0.13636363636363635, 'gini = 0.0\\nsamples = 1\\nvalue = [1, 0]\\nclass = 1'),\n",
       " Text(0.3582089552238806, 0.3181818181818182, 'gini = 0.0\\nsamples = 4\\nvalue = [4, 0]\\nclass = 1'),\n",
       " Text(0.22388059701492538, 0.5909090909090909, 'gini = 0.0\\nsamples = 4\\nvalue = [0, 4]\\nclass = 0'),\n",
       " Text(0.4925373134328358, 0.7727272727272727, 'oldpeak <= 2.35\\ngini = 0.499\\nsamples = 56\\nvalue = [27, 29]\\nclass = 0'),\n",
       " Text(0.4626865671641791, 0.6818181818181818, 'slope <= 0.5\\ngini = 0.449\\nsamples = 44\\nvalue = [15, 29]\\nclass = 0'),\n",
       " Text(0.43283582089552236, 0.5909090909090909, 'gini = 0.0\\nsamples = 7\\nvalue = [7, 0]\\nclass = 1'),\n",
       " Text(0.4925373134328358, 0.5909090909090909, 'maxheartrate <= 106.0\\ngini = 0.339\\nsamples = 37\\nvalue = [8, 29]\\nclass = 0'),\n",
       " Text(0.4626865671641791, 0.5, 'gini = 0.0\\nsamples = 4\\nvalue = [4, 0]\\nclass = 1'),\n",
       " Text(0.5223880597014925, 0.5, 'noofmajorvessels <= 2.5\\ngini = 0.213\\nsamples = 33\\nvalue = [4, 29]\\nclass = 0'),\n",
       " Text(0.4925373134328358, 0.4090909090909091, 'oldpeak <= 0.25\\ngini = 0.17\\nsamples = 32\\nvalue = [3, 29]\\nclass = 0'),\n",
       " Text(0.417910447761194, 0.3181818181818182, 'restingrelectro <= 0.5\\ngini = 0.5\\nsamples = 2\\nvalue = [1, 1]\\nclass = 1'),\n",
       " Text(0.3880597014925373, 0.22727272727272727, 'gini = 0.0\\nsamples = 1\\nvalue = [1, 0]\\nclass = 1'),\n",
       " Text(0.44776119402985076, 0.22727272727272727, 'gini = 0.0\\nsamples = 1\\nvalue = [0, 1]\\nclass = 0'),\n",
       " Text(0.5671641791044776, 0.3181818181818182, 'oldpeak <= 2.25\\ngini = 0.124\\nsamples = 30\\nvalue = [2, 28]\\nclass = 0'),\n",
       " Text(0.5074626865671642, 0.22727272727272727, 'maxheartrate <= 184.0\\ngini = 0.071\\nsamples = 27\\nvalue = [1, 26]\\nclass = 0'),\n",
       " Text(0.47761194029850745, 0.13636363636363635, 'gini = 0.0\\nsamples = 23\\nvalue = [0, 23]\\nclass = 0'),\n",
       " Text(0.5373134328358209, 0.13636363636363635, 'maxheartrate <= 190.0\\ngini = 0.375\\nsamples = 4\\nvalue = [1, 3]\\nclass = 0'),\n",
       " Text(0.5074626865671642, 0.045454545454545456, 'gini = 0.0\\nsamples = 1\\nvalue = [1, 0]\\nclass = 1'),\n",
       " Text(0.5671641791044776, 0.045454545454545456, 'gini = 0.0\\nsamples = 3\\nvalue = [0, 3]\\nclass = 0'),\n",
       " Text(0.6268656716417911, 0.22727272727272727, 'gender <= 0.5\\ngini = 0.444\\nsamples = 3\\nvalue = [1, 2]\\nclass = 0'),\n",
       " Text(0.5970149253731343, 0.13636363636363635, 'gini = 0.0\\nsamples = 1\\nvalue = [1, 0]\\nclass = 1'),\n",
       " Text(0.6567164179104478, 0.13636363636363635, 'gini = 0.0\\nsamples = 2\\nvalue = [0, 2]\\nclass = 0'),\n",
       " Text(0.5522388059701493, 0.4090909090909091, 'gini = 0.0\\nsamples = 1\\nvalue = [1, 0]\\nclass = 1'),\n",
       " Text(0.5223880597014925, 0.6818181818181818, 'gini = 0.0\\nsamples = 12\\nvalue = [12, 0]\\nclass = 1'),\n",
       " Text(0.7910447761194029, 0.8636363636363636, 'oldpeak <= 5.45\\ngini = 0.048\\nsamples = 406\\nvalue = [10, 396]\\nclass = 0'),\n",
       " Text(0.7313432835820896, 0.7727272727272727, 'noofmajorvessels <= 0.5\\ngini = 0.011\\nsamples = 358\\nvalue = [2, 356]\\nclass = 0'),\n",
       " Text(0.7014925373134329, 0.6818181818181818, 'age <= 78.0\\ngini = 0.147\\nsamples = 25\\nvalue = [2, 23]\\nclass = 0'),\n",
       " Text(0.6716417910447762, 0.5909090909090909, 'age <= 28.5\\ngini = 0.08\\nsamples = 24\\nvalue = [1, 23]\\nclass = 0'),\n",
       " Text(0.6417910447761194, 0.5, 'maxheartrate <= 134.5\\ngini = 0.32\\nsamples = 5\\nvalue = [1, 4]\\nclass = 0'),\n",
       " Text(0.6119402985074627, 0.4090909090909091, 'gini = 0.0\\nsamples = 1\\nvalue = [1, 0]\\nclass = 1'),\n",
       " Text(0.6716417910447762, 0.4090909090909091, 'gini = 0.0\\nsamples = 4\\nvalue = [0, 4]\\nclass = 0'),\n",
       " Text(0.7014925373134329, 0.5, 'gini = 0.0\\nsamples = 19\\nvalue = [0, 19]\\nclass = 0'),\n",
       " Text(0.7313432835820896, 0.5909090909090909, 'gini = 0.0\\nsamples = 1\\nvalue = [1, 0]\\nclass = 1'),\n",
       " Text(0.7611940298507462, 0.6818181818181818, 'gini = 0.0\\nsamples = 333\\nvalue = [0, 333]\\nclass = 0'),\n",
       " Text(0.8507462686567164, 0.7727272727272727, 'noofmajorvessels <= 0.5\\ngini = 0.278\\nsamples = 48\\nvalue = [8, 40]\\nclass = 0'),\n",
       " Text(0.8208955223880597, 0.6818181818181818, 'gini = 0.0\\nsamples = 4\\nvalue = [4, 0]\\nclass = 1'),\n",
       " Text(0.8805970149253731, 0.6818181818181818, 'restingBP <= 129.5\\ngini = 0.165\\nsamples = 44\\nvalue = [4, 40]\\nclass = 0'),\n",
       " Text(0.8208955223880597, 0.5909090909090909, 'chestpain <= 1.5\\ngini = 0.5\\nsamples = 6\\nvalue = [3, 3]\\nclass = 1'),\n",
       " Text(0.7910447761194029, 0.5, 'gini = 0.0\\nsamples = 3\\nvalue = [3, 0]\\nclass = 1'),\n",
       " Text(0.8507462686567164, 0.5, 'gini = 0.0\\nsamples = 3\\nvalue = [0, 3]\\nclass = 0'),\n",
       " Text(0.9402985074626866, 0.5909090909090909, 'restingBP <= 199.0\\ngini = 0.051\\nsamples = 38\\nvalue = [1, 37]\\nclass = 0'),\n",
       " Text(0.9104477611940298, 0.5, 'gini = 0.0\\nsamples = 37\\nvalue = [0, 37]\\nclass = 0'),\n",
       " Text(0.9701492537313433, 0.5, 'gini = 0.0\\nsamples = 1\\nvalue = [1, 0]\\nclass = 1')]"
      ]
     },
     "execution_count": 11,
     "metadata": {},
     "output_type": "execute_result"
    },
    {
     "data": {
      "image/png": "[encoded data removed]",
      "text/plain": [
       "<Figure size 640x480 with 1 Axes>"
      ]
     },
     "metadata": {},
     "output_type": "display_data"
    }
   ],
   "source": [
    "tree.plot_tree(DT,\n",
    "               feature_names=X_train.columns.tolist(),\n",
    "               class_names=df_clean['target'].unique().astype(str).tolist(),\n",
    "               filled=True,\n",
    "               rounded=True)"
   ]
  },
  {
   "cell_type": "markdown",
   "metadata": {},
   "source": [
    "Cambiando posibilidades bajamos el accuracy"
   ]
  },
  {
   "cell_type": "code",
   "execution_count": 12,
   "metadata": {},
   "outputs": [
    {
     "name": "stdout",
     "output_type": "stream",
     "text": [
      "test accuracy: 0.92\n",
      "test precision: 0.96\n",
      "test recall: 0.91\n",
      "test f1: 0.93\n"
     ]
    }
   ],
   "source": [
    "# Aumenta el número de muestras mínimas para continuar un nodo\n",
    "DT = tree.DecisionTreeClassifier(random_state=rn_state, min_samples_leaf=10)\n",
    "DT = DT.fit(X_train, y_train)\n",
    "print('test accuracy: %.2f' % DT.score(X_test, y_test))\n",
    "print('test precision: %.2f' % precision_score(y_test, y_predicted))\n",
    "print('test recall: %.2f' % recall_score(y_test, y_predicted))\n",
    "print('test f1: %.2f' % f1_score(y_test, y_predicted))"
   ]
  },
  {
   "cell_type": "code",
   "execution_count": 13,
   "metadata": {},
   "outputs": [
    {
     "data": {
      "text/plain": [
       "[Text(0.5865384615384616, 0.9285714285714286, 'slope <= 1.5\\ngini = 0.493\\nsamples = 800\\nvalue = [353, 447]\\nclass = 0'),\n",
       " Text(0.36538461538461536, 0.7857142857142857, 'chestpain <= 1.5\\ngini = 0.225\\nsamples = 394\\nvalue = [343, 51]\\nclass = 1'),\n",
       " Text(0.19230769230769232, 0.6428571428571429, 'restingBP <= 156.5\\ngini = 0.122\\nsamples = 338\\nvalue = [316, 22]\\nclass = 1'),\n",
       " Text(0.07692307692307693, 0.5, 'serumcholestrol <= 133.5\\ngini = 0.028\\nsamples = 279\\nvalue = [275, 4]\\nclass = 1'),\n",
       " Text(0.038461538461538464, 0.35714285714285715, 'gini = 0.278\\nsamples = 12\\nvalue = [10, 2]\\nclass = 1'),\n",
       " Text(0.11538461538461539, 0.35714285714285715, 'oldpeak <= 0.45\\ngini = 0.015\\nsamples = 267\\nvalue = [265, 2]\\nclass = 1'),\n",
       " Text(0.07692307692307693, 0.21428571428571427, 'restingBP <= 140.5\\ngini = 0.097\\nsamples = 39\\nvalue = [37, 2]\\nclass = 1'),\n",
       " Text(0.038461538461538464, 0.07142857142857142, 'gini = 0.0\\nsamples = 29\\nvalue = [29, 0]\\nclass = 1'),\n",
       " Text(0.11538461538461539, 0.07142857142857142, 'gini = 0.32\\nsamples = 10\\nvalue = [8, 2]\\nclass = 1'),\n",
       " Text(0.15384615384615385, 0.21428571428571427, 'gini = 0.0\\nsamples = 228\\nvalue = [228, 0]\\nclass = 1'),\n",
       " Text(0.3076923076923077, 0.5, 'oldpeak <= 2.4\\ngini = 0.424\\nsamples = 59\\nvalue = [41, 18]\\nclass = 1'),\n",
       " Text(0.2692307692307692, 0.35714285714285715, 'maxheartrate <= 106.5\\ngini = 0.5\\nsamples = 36\\nvalue = [18, 18]\\nclass = 1'),\n",
       " Text(0.23076923076923078, 0.21428571428571427, 'gini = 0.0\\nsamples = 11\\nvalue = [11, 0]\\nclass = 1'),\n",
       " Text(0.3076923076923077, 0.21428571428571427, 'noofmajorvessels <= 1.5\\ngini = 0.403\\nsamples = 25\\nvalue = [7, 18]\\nclass = 0'),\n",
       " Text(0.2692307692307692, 0.07142857142857142, 'gini = 0.49\\nsamples = 14\\nvalue = [6, 8]\\nclass = 0'),\n",
       " Text(0.34615384615384615, 0.07142857142857142, 'gini = 0.165\\nsamples = 11\\nvalue = [1, 10]\\nclass = 0'),\n",
       " Text(0.34615384615384615, 0.35714285714285715, 'gini = 0.0\\nsamples = 23\\nvalue = [23, 0]\\nclass = 1'),\n",
       " Text(0.5384615384615384, 0.6428571428571429, 'oldpeak <= 2.35\\ngini = 0.499\\nsamples = 56\\nvalue = [27, 29]\\nclass = 0'),\n",
       " Text(0.5, 0.5, 'maxheartrate <= 137.5\\ngini = 0.449\\nsamples = 44\\nvalue = [15, 29]\\nclass = 0'),\n",
       " Text(0.4230769230769231, 0.35714285714285715, 'age <= 54.5\\ngini = 0.499\\nsamples = 21\\nvalue = [10, 11]\\nclass = 0'),\n",
       " Text(0.38461538461538464, 0.21428571428571427, 'gini = 0.463\\nsamples = 11\\nvalue = [7, 4]\\nclass = 1'),\n",
       " Text(0.46153846153846156, 0.21428571428571427, 'gini = 0.42\\nsamples = 10\\nvalue = [3, 7]\\nclass = 0'),\n",
       " Text(0.5769230769230769, 0.35714285714285715, 'restingBP <= 143.5\\ngini = 0.34\\nsamples = 23\\nvalue = [5, 18]\\nclass = 0'),\n",
       " Text(0.5384615384615384, 0.21428571428571427, 'gini = 0.486\\nsamples = 12\\nvalue = [5, 7]\\nclass = 0'),\n",
       " Text(0.6153846153846154, 0.21428571428571427, 'gini = 0.0\\nsamples = 11\\nvalue = [0, 11]\\nclass = 0'),\n",
       " Text(0.5769230769230769, 0.5, 'gini = 0.0\\nsamples = 12\\nvalue = [12, 0]\\nclass = 1'),\n",
       " Text(0.8076923076923077, 0.7857142857142857, 'oldpeak <= 5.45\\ngini = 0.048\\nsamples = 406\\nvalue = [10, 396]\\nclass = 0'),\n",
       " Text(0.7307692307692307, 0.6428571428571429, 'noofmajorvessels <= 0.5\\ngini = 0.011\\nsamples = 358\\nvalue = [2, 356]\\nclass = 0'),\n",
       " Text(0.6923076923076923, 0.5, 'serumcholestrol <= 392.5\\ngini = 0.147\\nsamples = 25\\nvalue = [2, 23]\\nclass = 0'),\n",
       " Text(0.6538461538461539, 0.35714285714285715, 'gini = 0.0\\nsamples = 15\\nvalue = [0, 15]\\nclass = 0'),\n",
       " Text(0.7307692307692307, 0.35714285714285715, 'gini = 0.32\\nsamples = 10\\nvalue = [2, 8]\\nclass = 0'),\n",
       " Text(0.7692307692307693, 0.5, 'gini = 0.0\\nsamples = 333\\nvalue = [0, 333]\\nclass = 0'),\n",
       " Text(0.8846153846153846, 0.6428571428571429, 'restingBP <= 130.5\\ngini = 0.278\\nsamples = 48\\nvalue = [8, 40]\\nclass = 0'),\n",
       " Text(0.8461538461538461, 0.5, 'gini = 0.48\\nsamples = 10\\nvalue = [6, 4]\\nclass = 1'),\n",
       " Text(0.9230769230769231, 0.5, 'serumcholestrol <= 254.0\\ngini = 0.1\\nsamples = 38\\nvalue = [2, 36]\\nclass = 0'),\n",
       " Text(0.8846153846153846, 0.35714285714285715, 'gini = 0.32\\nsamples = 10\\nvalue = [2, 8]\\nclass = 0'),\n",
       " Text(0.9615384615384616, 0.35714285714285715, 'gini = 0.0\\nsamples = 28\\nvalue = [0, 28]\\nclass = 0')]"
      ]
     },
     "execution_count": 13,
     "metadata": {},
     "output_type": "execute_result"
    },
    {
     "data": {
      "image/png": "[encoded data removed]",
      "text/plain": [
       "<Figure size 640x480 with 1 Axes>"
      ]
     },
     "metadata": {},
     "output_type": "display_data"
    }
   ],
   "source": [
    "tree.plot_tree(DT,\n",
    "               feature_names=X_train.columns.tolist(),\n",
    "               class_names=df_clean['target'].unique().astype(str).tolist(),\n",
    "               filled=True,\n",
    "               rounded=True)"
   ]
  },
  {
   "cell_type": "markdown",
   "metadata": {},
   "source": [
    "O limitando su profundidad"
   ]
  },
  {
   "cell_type": "code",
   "execution_count": 14,
   "metadata": {},
   "outputs": [
    {
     "name": "stdout",
     "output_type": "stream",
     "text": [
      "test accuracy: 0.90\n",
      "test precision: 0.96\n",
      "test recall: 0.91\n",
      "test f1: 0.93\n"
     ]
    }
   ],
   "source": [
    "DT = tree.DecisionTreeClassifier(random_state=rn_state, max_depth=3)\n",
    "DT = DT.fit(X_train, y_train)\n",
    "print('test accuracy: %.2f' % DT.score(X_test, y_test))\n",
    "print('test precision: %.2f' % precision_score(y_test, y_predicted))\n",
    "print('test recall: %.2f' % recall_score(y_test, y_predicted))\n",
    "print('test f1: %.2f' % f1_score(y_test, y_predicted))"
   ]
  },
  {
   "cell_type": "code",
   "execution_count": 15,
   "metadata": {},
   "outputs": [
    {
     "data": {
      "text/plain": [
       "[Text(0.5, 0.875, 'slope <= 1.5\\ngini = 0.493\\nsamples = 800\\nvalue = [353, 447]\\nclass = 0'),\n",
       " Text(0.25, 0.625, 'chestpain <= 1.5\\ngini = 0.225\\nsamples = 394\\nvalue = [343, 51]\\nclass = 1'),\n",
       " Text(0.125, 0.375, 'serumcholestrol <= 66.0\\ngini = 0.122\\nsamples = 338\\nvalue = [316, 22]\\nclass = 1'),\n",
       " Text(0.0625, 0.125, 'gini = 0.0\\nsamples = 5\\nvalue = [0, 5]\\nclass = 0'),\n",
       " Text(0.1875, 0.125, 'gini = 0.097\\nsamples = 333\\nvalue = [316, 17]\\nclass = 1'),\n",
       " Text(0.375, 0.375, 'oldpeak <= 2.35\\ngini = 0.499\\nsamples = 56\\nvalue = [27, 29]\\nclass = 0'),\n",
       " Text(0.3125, 0.125, 'gini = 0.449\\nsamples = 44\\nvalue = [15, 29]\\nclass = 0'),\n",
       " Text(0.4375, 0.125, 'gini = 0.0\\nsamples = 12\\nvalue = [12, 0]\\nclass = 1'),\n",
       " Text(0.75, 0.625, 'oldpeak <= 5.45\\ngini = 0.048\\nsamples = 406\\nvalue = [10, 396]\\nclass = 0'),\n",
       " Text(0.625, 0.375, 'noofmajorvessels <= 0.5\\ngini = 0.011\\nsamples = 358\\nvalue = [2, 356]\\nclass = 0'),\n",
       " Text(0.5625, 0.125, 'gini = 0.147\\nsamples = 25\\nvalue = [2, 23]\\nclass = 0'),\n",
       " Text(0.6875, 0.125, 'gini = 0.0\\nsamples = 333\\nvalue = [0, 333]\\nclass = 0'),\n",
       " Text(0.875, 0.375, 'noofmajorvessels <= 0.5\\ngini = 0.278\\nsamples = 48\\nvalue = [8, 40]\\nclass = 0'),\n",
       " Text(0.8125, 0.125, 'gini = 0.0\\nsamples = 4\\nvalue = [4, 0]\\nclass = 1'),\n",
       " Text(0.9375, 0.125, 'gini = 0.165\\nsamples = 44\\nvalue = [4, 40]\\nclass = 0')]"
      ]
     },
     "execution_count": 15,
     "metadata": {},
     "output_type": "execute_result"
    },
    {
     "data": {
      "image/png": "[encoded data removed]",
      "text/plain": [
       "<Figure size 640x480 with 1 Axes>"
      ]
     },
     "metadata": {},
     "output_type": "display_data"
    }
   ],
   "source": [
    "tree.plot_tree(DT,\n",
    "               feature_names=X_train.columns.tolist(),\n",
    "                class_names=df_clean['target'].unique().astype(str).tolist(),\n",
    "               filled=True,\n",
    "               rounded=True)"
   ]
  },
  {
   "cell_type": "code",
   "execution_count": 16,
   "metadata": {},
   "outputs": [
    {
     "name": "stdout",
     "output_type": "stream",
     "text": [
      "test accuracy: 0.97\n",
      "test precision: 0.96\n",
      "test recall: 0.91\n",
      "test f1: 0.93\n"
     ]
    }
   ],
   "source": [
    "from sklearn.ensemble import RandomForestClassifier\n",
    "\n",
    "random_forest = RandomForestClassifier(random_state=rn_state)\n",
    "random_forest = random_forest.fit(X_train, y_train)\n",
    "print('test accuracy: %.2f' % random_forest.score(X_test, y_test))\n",
    "print('test precision: %.2f' % precision_score(y_test, y_predicted))\n",
    "print('test recall: %.2f' % recall_score(y_test, y_predicted))\n",
    "print('test f1: %.2f' % f1_score(y_test, y_predicted))"
   ]
  },
  {
   "cell_type": "markdown",
   "metadata": {},
   "source": [
    "Vemos una mejora notable contra arboles de decisión."
   ]
  },
  {
   "cell_type": "markdown",
   "metadata": {},
   "source": [
    "Y podemos observar cada árbol y ver como cada uno empieza a especializarse en un tipo de dato"
   ]
  },
  {
   "cell_type": "code",
   "execution_count": 17,
   "metadata": {},
   "outputs": [
    {
     "data": {
      "image/png": "[encoded data removed]",
      "text/plain": [
       "<Figure size 640x480 with 1 Axes>"
      ]
     },
     "metadata": {},
     "output_type": "display_data"
    },
    {
     "data": {
      "image/png": "[encoded data removed]",
      "text/plain": [
       "<Figure size 640x480 with 1 Axes>"
      ]
     },
     "metadata": {},
     "output_type": "display_data"
    },
    {
     "data": {
      "image/png": "[encoded data removed]",
      "text/plain": [
       "<Figure size 640x480 with 1 Axes>"
      ]
     },
     "metadata": {},
     "output_type": "display_data"
    }
   ],
   "source": [
    "for decision_tree in random_forest.estimators_[:3]:\n",
    "    tree.plot_tree(decision_tree,\n",
    "                    feature_names=X_train.columns.tolist(),\n",
    "                    class_names=df_clean['target'].unique().astype(str).tolist(),\n",
    "                    max_depth=1)\n",
    "    plt.show()"
   ]
  },
  {
   "cell_type": "markdown",
   "metadata": {},
   "source": [
    "Esto es el efecto de bootstrap"
   ]
  },
  {
   "cell_type": "markdown",
   "metadata": {},
   "source": [
    "## SVM"
   ]
  },
  {
   "cell_type": "markdown",
   "metadata": {},
   "source": [
    "Dejando atrás a los modelos de ensemble, podemos pasar a los support vector machine. Que una vez más se cargan y entrenan de forma similar"
   ]
  },
  {
   "cell_type": "code",
   "execution_count": 18,
   "metadata": {},
   "outputs": [
    {
     "name": "stdout",
     "output_type": "stream",
     "text": [
      "test accuracy: 0.97\n",
      "test precision: 0.96\n",
      "test recall: 0.91\n",
      "test f1: 0.93\n"
     ]
    }
   ],
   "source": [
    "from sklearn.svm import SVC\n",
    "svc = SVC(random_state=rn_state, kernel='linear')\n",
    "svc = svc.fit(X_train, y_train)\n",
    "print('test accuracy: %.2f' % random_forest.score(X_test, y_test))\n",
    "print('test precision: %.2f' % precision_score(y_test, y_predicted))\n",
    "print('test recall: %.2f' % recall_score(y_test, y_predicted))\n",
    "print('test f1: %.2f' % f1_score(y_test, y_predicted))"
   ]
  },
  {
   "cell_type": "markdown",
   "metadata": {},
   "source": [
    "Podemos ver un mapa de svc, pero necesitamos usar sólo dos dimensiones"
   ]
  },
  {
   "cell_type": "code",
   "execution_count": 19,
   "metadata": {},
   "outputs": [
    {
     "data": {
      "text/html": [
       "<div>\n",
       "<style scoped>\n",
       "    .dataframe tbody tr th:only-of-type {\n",
       "        vertical-align: middle;\n",
       "    }\n",
       "\n",
       "    .dataframe tbody tr th {\n",
       "        vertical-align: top;\n",
       "    }\n",
       "\n",
       "    .dataframe thead th {\n",
       "        text-align: right;\n",
       "    }\n",
       "</style>\n",
       "<table border=\"1\" class=\"dataframe\">\n",
       "  <thead>\n",
       "    <tr style=\"text-align: right;\">\n",
       "      <th></th>\n",
       "      <th>age</th>\n",
       "      <th>gender</th>\n",
       "      <th>chestpain</th>\n",
       "      <th>restingBP</th>\n",
       "      <th>serumcholestrol</th>\n",
       "      <th>fastingbloodsugar</th>\n",
       "      <th>restingrelectro</th>\n",
       "      <th>maxheartrate</th>\n",
       "      <th>exerciseangia</th>\n",
       "      <th>oldpeak</th>\n",
       "      <th>slope</th>\n",
       "      <th>noofmajorvessels</th>\n",
       "      <th>target</th>\n",
       "    </tr>\n",
       "  </thead>\n",
       "  <tbody>\n",
       "    <tr>\n",
       "      <th>0</th>\n",
       "      <td>53</td>\n",
       "      <td>1</td>\n",
       "      <td>2</td>\n",
       "      <td>171</td>\n",
       "      <td>0</td>\n",
       "      <td>0</td>\n",
       "      <td>1</td>\n",
       "      <td>147</td>\n",
       "      <td>0</td>\n",
       "      <td>5.3</td>\n",
       "      <td>3</td>\n",
       "      <td>3</td>\n",
       "      <td>1</td>\n",
       "    </tr>\n",
       "    <tr>\n",
       "      <th>1</th>\n",
       "      <td>40</td>\n",
       "      <td>1</td>\n",
       "      <td>0</td>\n",
       "      <td>94</td>\n",
       "      <td>229</td>\n",
       "      <td>0</td>\n",
       "      <td>1</td>\n",
       "      <td>115</td>\n",
       "      <td>0</td>\n",
       "      <td>3.7</td>\n",
       "      <td>1</td>\n",
       "      <td>1</td>\n",
       "      <td>0</td>\n",
       "    </tr>\n",
       "    <tr>\n",
       "      <th>2</th>\n",
       "      <td>49</td>\n",
       "      <td>1</td>\n",
       "      <td>2</td>\n",
       "      <td>133</td>\n",
       "      <td>142</td>\n",
       "      <td>0</td>\n",
       "      <td>0</td>\n",
       "      <td>202</td>\n",
       "      <td>1</td>\n",
       "      <td>5.0</td>\n",
       "      <td>1</td>\n",
       "      <td>0</td>\n",
       "      <td>0</td>\n",
       "    </tr>\n",
       "    <tr>\n",
       "      <th>3</th>\n",
       "      <td>43</td>\n",
       "      <td>1</td>\n",
       "      <td>0</td>\n",
       "      <td>138</td>\n",
       "      <td>295</td>\n",
       "      <td>1</td>\n",
       "      <td>1</td>\n",
       "      <td>153</td>\n",
       "      <td>0</td>\n",
       "      <td>3.2</td>\n",
       "      <td>2</td>\n",
       "      <td>2</td>\n",
       "      <td>1</td>\n",
       "    </tr>\n",
       "    <tr>\n",
       "      <th>4</th>\n",
       "      <td>31</td>\n",
       "      <td>1</td>\n",
       "      <td>1</td>\n",
       "      <td>199</td>\n",
       "      <td>0</td>\n",
       "      <td>0</td>\n",
       "      <td>2</td>\n",
       "      <td>136</td>\n",
       "      <td>0</td>\n",
       "      <td>5.3</td>\n",
       "      <td>3</td>\n",
       "      <td>2</td>\n",
       "      <td>1</td>\n",
       "    </tr>\n",
       "  </tbody>\n",
       "</table>\n",
       "</div>"
      ],
      "text/plain": [
       "   age  gender  chestpain  restingBP  serumcholestrol  fastingbloodsugar  \\\n",
       "0   53       1          2        171                0                  0   \n",
       "1   40       1          0         94              229                  0   \n",
       "2   49       1          2        133              142                  0   \n",
       "3   43       1          0        138              295                  1   \n",
       "4   31       1          1        199                0                  0   \n",
       "\n",
       "   restingrelectro  maxheartrate  exerciseangia  oldpeak  slope  \\\n",
       "0                1           147              0      5.3      3   \n",
       "1                1           115              0      3.7      1   \n",
       "2                0           202              1      5.0      1   \n",
       "3                1           153              0      3.2      2   \n",
       "4                2           136              0      5.3      3   \n",
       "\n",
       "   noofmajorvessels  target  \n",
       "0                 3       1  \n",
       "1                 1       0  \n",
       "2                 0       0  \n",
       "3                 2       1  \n",
       "4                 2       1  "
      ]
     },
     "execution_count": 19,
     "metadata": {},
     "output_type": "execute_result"
    }
   ],
   "source": [
    "df_clean.head()"
   ]
  },
  {
   "cell_type": "code",
   "execution_count": 20,
   "metadata": {},
   "outputs": [
    {
     "data": {
      "image/png": "[encoded data removed]",
      "text/plain": [
       "<Figure size 640x480 with 1 Axes>"
      ]
     },
     "metadata": {},
     "output_type": "display_data"
    }
   ],
   "source": [
    "df_disease = pd.read_csv('data/Cardiovascular_Disease_dataset.csv')\n",
    "X = np.array(df_disease.iloc[:, 3:5])  # we only take 2 features\n",
    "                    # avoid this ugly slicing by using a two-dim dataset\n",
    "y = df_disease['target']\n",
    "h = .02  # step size in the mesh\n",
    "\n",
    "# we create an instance of SVM and fit out data. We do not scale our\n",
    "# data since we want to plot the support vectors\n",
    "C = 1.0  # SVM regularization parameter\n",
    "\n",
    "# create a mesh to plot in\n",
    "x_min, x_max = X[:, 0].min() - 1, X[:, 0].max() + 1\n",
    "y_min, y_max = X[:, 1].min() - 1, X[:, 1].max() + 1\n",
    "xx, yy = np.meshgrid(np.arange(x_min, x_max, h),\n",
    "                    np.arange(y_min, y_max, h))\n",
    "\n",
    "# title for the plots\n",
    "titles = 'SVC'\n",
    "svc = SVC(random_state=rn_state, kernel='linear')\n",
    "svc = svc.fit(X, y)\n",
    "\n",
    "Z = svc.predict(np.c_[xx.ravel(), yy.ravel()])\n",
    "\n",
    "# Put the result into a color plot\n",
    "Z = Z.reshape(xx.shape)\n",
    "plt.contourf(xx, yy, Z, cmap=plt.cm.coolwarm, alpha=0.8)\n",
    "\n",
    "# Plot also the training points\n",
    "plt.scatter(X[:, 0], X[:, 1], c=y, cmap=plt.cm.coolwarm)\n",
    "plt.xlim(xx.min(), xx.max())\n",
    "plt.ylim(yy.min(), yy.max())\n",
    "plt.xticks(())\n",
    "plt.yticks(())\n",
    "plt.title(\"svc\")\n",
    "\n",
    "plt.show()"
   ]
  },
  {
   "cell_type": "markdown",
   "metadata": {},
   "source": [
    "Podemos ver la dificultad de separar estos datos a base de un hiperplano.\n",
    "\n",
    "Por lo que posiblemente, SVM no es el mejor modelo para resolver este problema"
   ]
  },
  {
   "cell_type": "markdown",
   "metadata": {},
   "source": [
    "## Logistic regression"
   ]
  },
  {
   "cell_type": "code",
   "execution_count": 21,
   "metadata": {},
   "outputs": [
    {
     "name": "stdout",
     "output_type": "stream",
     "text": [
      "test accuracy: 0.97\n",
      "test precision: 0.96\n",
      "test recall: 0.91\n",
      "test f1: 0.93\n"
     ]
    },
    {
     "name": "stderr",
     "output_type": "stream",
     "text": [
      "/Users/jesusmartinmejias/anaconda3/lib/python3.11/site-packages/sklearn/linear_model/_logistic.py:460: ConvergenceWarning: lbfgs failed to converge (status=1):\n",
      "STOP: TOTAL NO. of ITERATIONS REACHED LIMIT.\n",
      "\n",
      "Increase the number of iterations (max_iter) or scale the data as shown in:\n",
      "    https://scikit-learn.org/stable/modules/preprocessing.html\n",
      "Please also refer to the documentation for alternative solver options:\n",
      "    https://scikit-learn.org/stable/modules/linear_model.html#logistic-regression\n",
      "  n_iter_i = _check_optimize_result(\n"
     ]
    }
   ],
   "source": [
    "from sklearn import linear_model\n",
    "logistic_regressor = linear_model.LogisticRegression(random_state=rn_state)\n",
    "logistic_regressor = logistic_regressor.fit(X_train, y_train)\n",
    "print('test accuracy: %.2f' % random_forest.score(X_test, y_test))\n",
    "print('test precision: %.2f' % precision_score(y_test, y_predicted))\n",
    "print('test recall: %.2f' % recall_score(y_test, y_predicted))\n",
    "print('test f1: %.2f' % f1_score(y_test, y_predicted))"
   ]
  },
  {
   "cell_type": "markdown",
   "metadata": {},
   "source": [
    "# Conclusion\n",
    "De los modelos usados, tanto el random forest como el SVN tienen los mismos valores, más que el arbol de decisión normal. Usariamos random forest"
   ]
  },
  {
   "cell_type": "code",
   "execution_count": 22,
   "metadata": {},
   "outputs": [
    {
     "data": {
      "text/html": [
       "<div>\n",
       "<style scoped>\n",
       "    .dataframe tbody tr th:only-of-type {\n",
       "        vertical-align: middle;\n",
       "    }\n",
       "\n",
       "    .dataframe tbody tr th {\n",
       "        vertical-align: top;\n",
       "    }\n",
       "\n",
       "    .dataframe thead th {\n",
       "        text-align: right;\n",
       "    }\n",
       "</style>\n",
       "<table border=\"1\" class=\"dataframe\">\n",
       "  <thead>\n",
       "    <tr style=\"text-align: right;\">\n",
       "      <th></th>\n",
       "      <th>age</th>\n",
       "      <th>gender</th>\n",
       "      <th>chestpain</th>\n",
       "      <th>restingBP</th>\n",
       "      <th>serumcholestrol</th>\n",
       "      <th>fastingbloodsugar</th>\n",
       "      <th>restingrelectro</th>\n",
       "      <th>maxheartrate</th>\n",
       "      <th>exerciseangia</th>\n",
       "      <th>oldpeak</th>\n",
       "      <th>slope</th>\n",
       "      <th>noofmajorvessels</th>\n",
       "      <th>target</th>\n",
       "    </tr>\n",
       "  </thead>\n",
       "  <tbody>\n",
       "    <tr>\n",
       "      <th>0</th>\n",
       "      <td>53</td>\n",
       "      <td>1</td>\n",
       "      <td>2</td>\n",
       "      <td>171</td>\n",
       "      <td>0</td>\n",
       "      <td>0</td>\n",
       "      <td>1</td>\n",
       "      <td>147</td>\n",
       "      <td>0</td>\n",
       "      <td>5.3</td>\n",
       "      <td>3</td>\n",
       "      <td>3</td>\n",
       "      <td>1</td>\n",
       "    </tr>\n",
       "    <tr>\n",
       "      <th>1</th>\n",
       "      <td>40</td>\n",
       "      <td>1</td>\n",
       "      <td>0</td>\n",
       "      <td>94</td>\n",
       "      <td>229</td>\n",
       "      <td>0</td>\n",
       "      <td>1</td>\n",
       "      <td>115</td>\n",
       "      <td>0</td>\n",
       "      <td>3.7</td>\n",
       "      <td>1</td>\n",
       "      <td>1</td>\n",
       "      <td>0</td>\n",
       "    </tr>\n",
       "    <tr>\n",
       "      <th>2</th>\n",
       "      <td>49</td>\n",
       "      <td>1</td>\n",
       "      <td>2</td>\n",
       "      <td>133</td>\n",
       "      <td>142</td>\n",
       "      <td>0</td>\n",
       "      <td>0</td>\n",
       "      <td>202</td>\n",
       "      <td>1</td>\n",
       "      <td>5.0</td>\n",
       "      <td>1</td>\n",
       "      <td>0</td>\n",
       "      <td>0</td>\n",
       "    </tr>\n",
       "    <tr>\n",
       "      <th>3</th>\n",
       "      <td>43</td>\n",
       "      <td>1</td>\n",
       "      <td>0</td>\n",
       "      <td>138</td>\n",
       "      <td>295</td>\n",
       "      <td>1</td>\n",
       "      <td>1</td>\n",
       "      <td>153</td>\n",
       "      <td>0</td>\n",
       "      <td>3.2</td>\n",
       "      <td>2</td>\n",
       "      <td>2</td>\n",
       "      <td>1</td>\n",
       "    </tr>\n",
       "    <tr>\n",
       "      <th>4</th>\n",
       "      <td>31</td>\n",
       "      <td>1</td>\n",
       "      <td>1</td>\n",
       "      <td>199</td>\n",
       "      <td>0</td>\n",
       "      <td>0</td>\n",
       "      <td>2</td>\n",
       "      <td>136</td>\n",
       "      <td>0</td>\n",
       "      <td>5.3</td>\n",
       "      <td>3</td>\n",
       "      <td>2</td>\n",
       "      <td>1</td>\n",
       "    </tr>\n",
       "  </tbody>\n",
       "</table>\n",
       "</div>"
      ],
      "text/plain": [
       "   age  gender  chestpain  restingBP  serumcholestrol  fastingbloodsugar  \\\n",
       "0   53       1          2        171                0                  0   \n",
       "1   40       1          0         94              229                  0   \n",
       "2   49       1          2        133              142                  0   \n",
       "3   43       1          0        138              295                  1   \n",
       "4   31       1          1        199                0                  0   \n",
       "\n",
       "   restingrelectro  maxheartrate  exerciseangia  oldpeak  slope  \\\n",
       "0                1           147              0      5.3      3   \n",
       "1                1           115              0      3.7      1   \n",
       "2                0           202              1      5.0      1   \n",
       "3                1           153              0      3.2      2   \n",
       "4                2           136              0      5.3      3   \n",
       "\n",
       "   noofmajorvessels  target  \n",
       "0                 3       1  \n",
       "1                 1       0  \n",
       "2                 0       0  \n",
       "3                 2       1  \n",
       "4                 2       1  "
      ]
     },
     "execution_count": 22,
     "metadata": {},
     "output_type": "execute_result"
    }
   ],
   "source": [
    "df_clean.head()"
   ]
  },
  {
   "cell_type": "code",
   "execution_count": 23,
   "metadata": {},
   "outputs": [
    {
     "name": "stdout",
     "output_type": "stream",
     "text": [
      "[1]\n"
     ]
    },
    {
     "name": "stderr",
     "output_type": "stream",
     "text": [
      "/Users/jesusmartinmejias/anaconda3/lib/python3.11/site-packages/sklearn/base.py:464: UserWarning: X does not have valid feature names, but DecisionTreeClassifier was fitted with feature names\n",
      "  warnings.warn(\n"
     ]
    }
   ],
   "source": [
    "# entrada: age\tgender\tchestpain\trestingBP\tserumcholestrol\tfastingbloodsugar\trestingrelectro\tmaxheartrate\texerciseangia\toldpeak\tslope\tnoofmajorvessels\n",
    "example_data = [[20,1,2,120,0,0,1,147,0,5.3,3,3]]\n",
    "prediction = DT.predict(example_data)\n",
    "print(prediction)"
   ]
  },
  {
   "cell_type": "markdown",
   "metadata": {},
   "source": [
    "# Ejercicio 2 Caso 2. Nivel de estrés\n",
    "Tu departamento de Recursos Humanos quiere prevenir el estrés de los empleados dentro de la compañía. Para ello, lo\n",
    "principal es detectar el nivel de estrés de estos.\n",
    "Se te pide desarrollar una solución que indique el nivel de estrés de un empleado que responda a un cuestionario. Estos \n",
    "© Qualentum 4 niveles de estrés pueden ser: no estresado (0-3), estresado (3-6), extremadamente estresado (7-8).\n",
    "\n",
    "Se te pide:\n",
    "1. Seleccionar un algoritmo de los estudiados que pueda\n",
    "devolver el nivel de estrés de la persona (0-8).\n",
    "2. Determina qué variables son las que más información\n",
    "dan al nivel de estrés de una persona.\n",
    "3. Clasifica los resultados del algoritmo en las 3 categorías\n",
    "que piden en RR. HH.\n",
    "4. Reflexiona y responde a estas cuestiones: con el\n",
    "algoritmo obtenido, ¿crees que los datos usados son\n",
    "suficientes para poder detectar el estrés de las\n",
    "personas?, ¿por qué?"
   ]
  },
  {
   "cell_type": "markdown",
   "metadata": {},
   "source": [
    "Cargamos un dataset de kaggle ([perth-house-pries](https://www.kaggle.com/datasets/syuzai/perth-house-prices))\n",
    "\n",
    "dedicado a la predicción de precios de casas en Boston."
   ]
  },
  {
   "cell_type": "markdown",
   "metadata": {},
   "source": []
  },
  {
   "cell_type": "code",
   "execution_count": 58,
   "metadata": {},
   "outputs": [
    {
     "data": {
      "text/html": [
       "<div>\n",
       "<style scoped>\n",
       "    .dataframe tbody tr th:only-of-type {\n",
       "        vertical-align: middle;\n",
       "    }\n",
       "\n",
       "    .dataframe tbody tr th {\n",
       "        vertical-align: top;\n",
       "    }\n",
       "\n",
       "    .dataframe thead th {\n",
       "        text-align: right;\n",
       "    }\n",
       "</style>\n",
       "<table border=\"1\" class=\"dataframe\">\n",
       "  <thead>\n",
       "    <tr style=\"text-align: right;\">\n",
       "      <th></th>\n",
       "      <th>Person ID</th>\n",
       "      <th>Gender</th>\n",
       "      <th>Age</th>\n",
       "      <th>Occupation</th>\n",
       "      <th>Sleep Duration</th>\n",
       "      <th>Quality of Sleep</th>\n",
       "      <th>Physical Activity Level</th>\n",
       "      <th>Stress Level</th>\n",
       "      <th>BMI Category</th>\n",
       "      <th>Blood Pressure</th>\n",
       "      <th>Heart Rate</th>\n",
       "      <th>Daily Steps</th>\n",
       "      <th>Sleep Disorder</th>\n",
       "    </tr>\n",
       "  </thead>\n",
       "  <tbody>\n",
       "    <tr>\n",
       "      <th>369</th>\n",
       "      <td>370</td>\n",
       "      <td>Female</td>\n",
       "      <td>59</td>\n",
       "      <td>Nurse</td>\n",
       "      <td>8.1</td>\n",
       "      <td>9</td>\n",
       "      <td>75</td>\n",
       "      <td>3</td>\n",
       "      <td>Overweight</td>\n",
       "      <td>140/95</td>\n",
       "      <td>68</td>\n",
       "      <td>7000</td>\n",
       "      <td>Sleep Apnea</td>\n",
       "    </tr>\n",
       "    <tr>\n",
       "      <th>370</th>\n",
       "      <td>371</td>\n",
       "      <td>Female</td>\n",
       "      <td>59</td>\n",
       "      <td>Nurse</td>\n",
       "      <td>8.0</td>\n",
       "      <td>9</td>\n",
       "      <td>75</td>\n",
       "      <td>3</td>\n",
       "      <td>Overweight</td>\n",
       "      <td>140/95</td>\n",
       "      <td>68</td>\n",
       "      <td>7000</td>\n",
       "      <td>Sleep Apnea</td>\n",
       "    </tr>\n",
       "    <tr>\n",
       "      <th>371</th>\n",
       "      <td>372</td>\n",
       "      <td>Female</td>\n",
       "      <td>59</td>\n",
       "      <td>Nurse</td>\n",
       "      <td>8.1</td>\n",
       "      <td>9</td>\n",
       "      <td>75</td>\n",
       "      <td>3</td>\n",
       "      <td>Overweight</td>\n",
       "      <td>140/95</td>\n",
       "      <td>68</td>\n",
       "      <td>7000</td>\n",
       "      <td>Sleep Apnea</td>\n",
       "    </tr>\n",
       "    <tr>\n",
       "      <th>372</th>\n",
       "      <td>373</td>\n",
       "      <td>Female</td>\n",
       "      <td>59</td>\n",
       "      <td>Nurse</td>\n",
       "      <td>8.1</td>\n",
       "      <td>9</td>\n",
       "      <td>75</td>\n",
       "      <td>3</td>\n",
       "      <td>Overweight</td>\n",
       "      <td>140/95</td>\n",
       "      <td>68</td>\n",
       "      <td>7000</td>\n",
       "      <td>Sleep Apnea</td>\n",
       "    </tr>\n",
       "    <tr>\n",
       "      <th>373</th>\n",
       "      <td>374</td>\n",
       "      <td>Female</td>\n",
       "      <td>59</td>\n",
       "      <td>Nurse</td>\n",
       "      <td>8.1</td>\n",
       "      <td>9</td>\n",
       "      <td>75</td>\n",
       "      <td>3</td>\n",
       "      <td>Overweight</td>\n",
       "      <td>140/95</td>\n",
       "      <td>68</td>\n",
       "      <td>7000</td>\n",
       "      <td>Sleep Apnea</td>\n",
       "    </tr>\n",
       "  </tbody>\n",
       "</table>\n",
       "</div>"
      ],
      "text/plain": [
       "     Person ID  Gender  Age Occupation  Sleep Duration  Quality of Sleep  \\\n",
       "369        370  Female   59      Nurse             8.1                 9   \n",
       "370        371  Female   59      Nurse             8.0                 9   \n",
       "371        372  Female   59      Nurse             8.1                 9   \n",
       "372        373  Female   59      Nurse             8.1                 9   \n",
       "373        374  Female   59      Nurse             8.1                 9   \n",
       "\n",
       "     Physical Activity Level  Stress Level BMI Category Blood Pressure  \\\n",
       "369                       75             3   Overweight         140/95   \n",
       "370                       75             3   Overweight         140/95   \n",
       "371                       75             3   Overweight         140/95   \n",
       "372                       75             3   Overweight         140/95   \n",
       "373                       75             3   Overweight         140/95   \n",
       "\n",
       "     Heart Rate  Daily Steps Sleep Disorder  \n",
       "369          68         7000    Sleep Apnea  \n",
       "370          68         7000    Sleep Apnea  \n",
       "371          68         7000    Sleep Apnea  \n",
       "372          68         7000    Sleep Apnea  \n",
       "373          68         7000    Sleep Apnea  "
      ]
     },
     "execution_count": 58,
     "metadata": {},
     "output_type": "execute_result"
    }
   ],
   "source": [
    "df_estres = pd.read_csv('data/Sleep_health_and_lifestyle_dataset.csv')\n",
    "df_estres.head()\n",
    "df_estres.tail()"
   ]
  },
  {
   "cell_type": "code",
   "execution_count": 59,
   "metadata": {},
   "outputs": [
    {
     "name": "stdout",
     "output_type": "stream",
     "text": [
      "<class 'pandas.core.frame.DataFrame'>\n",
      "RangeIndex: 374 entries, 0 to 373\n",
      "Data columns (total 13 columns):\n",
      " #   Column                   Non-Null Count  Dtype  \n",
      "---  ------                   --------------  -----  \n",
      " 0   Person ID                374 non-null    int64  \n",
      " 1   Gender                   374 non-null    object \n",
      " 2   Age                      374 non-null    int64  \n",
      " 3   Occupation               374 non-null    object \n",
      " 4   Sleep Duration           374 non-null    float64\n",
      " 5   Quality of Sleep         374 non-null    int64  \n",
      " 6   Physical Activity Level  374 non-null    int64  \n",
      " 7   Stress Level             374 non-null    int64  \n",
      " 8   BMI Category             374 non-null    object \n",
      " 9   Blood Pressure           374 non-null    object \n",
      " 10  Heart Rate               374 non-null    int64  \n",
      " 11  Daily Steps              374 non-null    int64  \n",
      " 12  Sleep Disorder           155 non-null    object \n",
      "dtypes: float64(1), int64(7), object(5)\n",
      "memory usage: 38.1+ KB\n"
     ]
    }
   ],
   "source": [
    "df_estres.info()"
   ]
  },
  {
   "cell_type": "code",
   "execution_count": 60,
   "metadata": {},
   "outputs": [
    {
     "data": {
      "text/plain": [
       "Person ID                    0\n",
       "Gender                       0\n",
       "Age                          0\n",
       "Occupation                   0\n",
       "Sleep Duration               0\n",
       "Quality of Sleep             0\n",
       "Physical Activity Level      0\n",
       "Stress Level                 0\n",
       "BMI Category                 0\n",
       "Blood Pressure               0\n",
       "Heart Rate                   0\n",
       "Daily Steps                  0\n",
       "Sleep Disorder             219\n",
       "dtype: int64"
      ]
     },
     "execution_count": 60,
     "metadata": {},
     "output_type": "execute_result"
    }
   ],
   "source": [
    "df_estres.isna().sum()"
   ]
  },
  {
   "cell_type": "code",
   "execution_count": 61,
   "metadata": {},
   "outputs": [
    {
     "data": {
      "text/plain": [
       "Person ID                  374\n",
       "Gender                       2\n",
       "Age                         31\n",
       "Occupation                  11\n",
       "Sleep Duration              27\n",
       "Quality of Sleep             6\n",
       "Physical Activity Level     16\n",
       "Stress Level                 6\n",
       "BMI Category                 4\n",
       "Blood Pressure              25\n",
       "Heart Rate                  19\n",
       "Daily Steps                 20\n",
       "Sleep Disorder               2\n",
       "dtype: int64"
      ]
     },
     "execution_count": 61,
     "metadata": {},
     "output_type": "execute_result"
    }
   ],
   "source": [
    "df_estres.nunique()\n",
    "\n"
   ]
  },
  {
   "cell_type": "code",
   "execution_count": 62,
   "metadata": {},
   "outputs": [
    {
     "data": {
      "text/plain": [
       "Occupation\n",
       "Nurse                   73\n",
       "Doctor                  71\n",
       "Engineer                63\n",
       "Lawyer                  47\n",
       "Teacher                 40\n",
       "Accountant              37\n",
       "Salesperson             32\n",
       "Software Engineer        4\n",
       "Scientist                4\n",
       "Sales Representative     2\n",
       "Manager                  1\n",
       "Name: count, dtype: int64"
      ]
     },
     "execution_count": 62,
     "metadata": {},
     "output_type": "execute_result"
    }
   ],
   "source": [
    "df_estres['Occupation'].value_counts()"
   ]
  },
  {
   "cell_type": "markdown",
   "metadata": {},
   "source": []
  },
  {
   "cell_type": "markdown",
   "metadata": {},
   "source": [
    "Vemos que en sleep disorder hay 219 NaN, los rellenamos con 0\n",
    "Vemos que el dataset tiene una mezcla de valores numéricos y strings.\n",
    "Convertimos a numéricos los valores categóricos"
   ]
  },
  {
   "cell_type": "markdown",
   "metadata": {},
   "source": [
    "Convierto las variables categóricas en numéricas"
   ]
  },
  {
   "cell_type": "code",
   "execution_count": 76,
   "metadata": {},
   "outputs": [
    {
     "data": {
      "text/html": [
       "<div>\n",
       "<style scoped>\n",
       "    .dataframe tbody tr th:only-of-type {\n",
       "        vertical-align: middle;\n",
       "    }\n",
       "\n",
       "    .dataframe tbody tr th {\n",
       "        vertical-align: top;\n",
       "    }\n",
       "\n",
       "    .dataframe thead th {\n",
       "        text-align: right;\n",
       "    }\n",
       "</style>\n",
       "<table border=\"1\" class=\"dataframe\">\n",
       "  <thead>\n",
       "    <tr style=\"text-align: right;\">\n",
       "      <th></th>\n",
       "      <th>Gender</th>\n",
       "      <th>Age</th>\n",
       "      <th>Occupation</th>\n",
       "      <th>Sleep Duration</th>\n",
       "      <th>Quality of Sleep</th>\n",
       "      <th>Physical Activity Level</th>\n",
       "      <th>Stress Level</th>\n",
       "      <th>BMI Category</th>\n",
       "      <th>Blood Pressure</th>\n",
       "      <th>Heart Rate</th>\n",
       "      <th>Daily Steps</th>\n",
       "      <th>Sleep Disorder</th>\n",
       "    </tr>\n",
       "  </thead>\n",
       "  <tbody>\n",
       "    <tr>\n",
       "      <th>0</th>\n",
       "      <td>1</td>\n",
       "      <td>27</td>\n",
       "      <td>9</td>\n",
       "      <td>6.1</td>\n",
       "      <td>6</td>\n",
       "      <td>42</td>\n",
       "      <td>6</td>\n",
       "      <td>3</td>\n",
       "      <td>11</td>\n",
       "      <td>77</td>\n",
       "      <td>4200</td>\n",
       "      <td>2</td>\n",
       "    </tr>\n",
       "    <tr>\n",
       "      <th>1</th>\n",
       "      <td>1</td>\n",
       "      <td>28</td>\n",
       "      <td>1</td>\n",
       "      <td>6.2</td>\n",
       "      <td>6</td>\n",
       "      <td>60</td>\n",
       "      <td>8</td>\n",
       "      <td>0</td>\n",
       "      <td>9</td>\n",
       "      <td>75</td>\n",
       "      <td>10000</td>\n",
       "      <td>2</td>\n",
       "    </tr>\n",
       "    <tr>\n",
       "      <th>2</th>\n",
       "      <td>1</td>\n",
       "      <td>28</td>\n",
       "      <td>1</td>\n",
       "      <td>6.2</td>\n",
       "      <td>6</td>\n",
       "      <td>60</td>\n",
       "      <td>8</td>\n",
       "      <td>0</td>\n",
       "      <td>9</td>\n",
       "      <td>75</td>\n",
       "      <td>10000</td>\n",
       "      <td>2</td>\n",
       "    </tr>\n",
       "    <tr>\n",
       "      <th>3</th>\n",
       "      <td>1</td>\n",
       "      <td>28</td>\n",
       "      <td>6</td>\n",
       "      <td>5.9</td>\n",
       "      <td>4</td>\n",
       "      <td>30</td>\n",
       "      <td>8</td>\n",
       "      <td>2</td>\n",
       "      <td>22</td>\n",
       "      <td>85</td>\n",
       "      <td>3000</td>\n",
       "      <td>1</td>\n",
       "    </tr>\n",
       "    <tr>\n",
       "      <th>4</th>\n",
       "      <td>1</td>\n",
       "      <td>28</td>\n",
       "      <td>6</td>\n",
       "      <td>5.9</td>\n",
       "      <td>4</td>\n",
       "      <td>30</td>\n",
       "      <td>8</td>\n",
       "      <td>2</td>\n",
       "      <td>22</td>\n",
       "      <td>85</td>\n",
       "      <td>3000</td>\n",
       "      <td>1</td>\n",
       "    </tr>\n",
       "  </tbody>\n",
       "</table>\n",
       "</div>"
      ],
      "text/plain": [
       "   Gender  Age  Occupation  Sleep Duration  Quality of Sleep  \\\n",
       "0       1   27           9             6.1                 6   \n",
       "1       1   28           1             6.2                 6   \n",
       "2       1   28           1             6.2                 6   \n",
       "3       1   28           6             5.9                 4   \n",
       "4       1   28           6             5.9                 4   \n",
       "\n",
       "   Physical Activity Level  Stress Level  BMI Category  Blood Pressure  \\\n",
       "0                       42             6             3              11   \n",
       "1                       60             8             0               9   \n",
       "2                       60             8             0               9   \n",
       "3                       30             8             2              22   \n",
       "4                       30             8             2              22   \n",
       "\n",
       "   Heart Rate  Daily Steps  Sleep Disorder  \n",
       "0          77         4200               2  \n",
       "1          75        10000               2  \n",
       "2          75        10000               2  \n",
       "3          85         3000               1  \n",
       "4          85         3000               1  "
      ]
     },
     "execution_count": 76,
     "metadata": {},
     "output_type": "execute_result"
    }
   ],
   "source": [
    "from sklearn.preprocessing import LabelEncoder\n",
    "\n",
    "# Create an instance of LabelEncoder\n",
    "label_encoder = LabelEncoder()\n",
    "\n",
    "df_coded = df_estres.copy()\n",
    "# Convertimos las variables categóricas a numéricas\n",
    "for column in df_coded.columns:\n",
    "    if df_coded[column].dtype == 'object':\n",
    "        # Fit and transform the column\n",
    "        df_coded[column] = label_encoder.fit_transform(df_coded[column])\n",
    "# Rellenamos NaN de Fill Disorder con 0\n",
    "df_coded['Sleep Disorder'] = df_coded['Sleep Disorder'].fillna(0)\n",
    "# Quitmaos el ID no nos sirve para el modelo\n",
    "df_coded.drop(columns=['Person ID'], inplace=True)\n",
    "df_coded.head()"
   ]
  },
  {
   "cell_type": "markdown",
   "metadata": {},
   "source": [
    "Con los datos limpios, podemos dividirlos en train y test (Validación)."
   ]
  },
  {
   "cell_type": "code",
   "execution_count": 80,
   "metadata": {},
   "outputs": [
    {
     "data": {
      "text/html": [
       "<div>\n",
       "<style scoped>\n",
       "    .dataframe tbody tr th:only-of-type {\n",
       "        vertical-align: middle;\n",
       "    }\n",
       "\n",
       "    .dataframe tbody tr th {\n",
       "        vertical-align: top;\n",
       "    }\n",
       "\n",
       "    .dataframe thead th {\n",
       "        text-align: right;\n",
       "    }\n",
       "</style>\n",
       "<table border=\"1\" class=\"dataframe\">\n",
       "  <thead>\n",
       "    <tr style=\"text-align: right;\">\n",
       "      <th></th>\n",
       "      <th>Gender</th>\n",
       "      <th>Age</th>\n",
       "      <th>Occupation</th>\n",
       "      <th>Sleep Duration</th>\n",
       "      <th>Quality of Sleep</th>\n",
       "      <th>Physical Activity Level</th>\n",
       "      <th>BMI Category</th>\n",
       "      <th>Blood Pressure</th>\n",
       "      <th>Heart Rate</th>\n",
       "      <th>Daily Steps</th>\n",
       "      <th>Sleep Disorder</th>\n",
       "    </tr>\n",
       "  </thead>\n",
       "  <tbody>\n",
       "    <tr>\n",
       "      <th>220</th>\n",
       "      <td>0</td>\n",
       "      <td>44</td>\n",
       "      <td>10</td>\n",
       "      <td>6.6</td>\n",
       "      <td>7</td>\n",
       "      <td>45</td>\n",
       "      <td>3</td>\n",
       "      <td>20</td>\n",
       "      <td>65</td>\n",
       "      <td>6000</td>\n",
       "      <td>0</td>\n",
       "    </tr>\n",
       "    <tr>\n",
       "      <th>17</th>\n",
       "      <td>1</td>\n",
       "      <td>29</td>\n",
       "      <td>1</td>\n",
       "      <td>6.0</td>\n",
       "      <td>6</td>\n",
       "      <td>30</td>\n",
       "      <td>0</td>\n",
       "      <td>6</td>\n",
       "      <td>70</td>\n",
       "      <td>8000</td>\n",
       "      <td>1</td>\n",
       "    </tr>\n",
       "    <tr>\n",
       "      <th>62</th>\n",
       "      <td>1</td>\n",
       "      <td>32</td>\n",
       "      <td>1</td>\n",
       "      <td>6.2</td>\n",
       "      <td>6</td>\n",
       "      <td>30</td>\n",
       "      <td>0</td>\n",
       "      <td>9</td>\n",
       "      <td>72</td>\n",
       "      <td>5000</td>\n",
       "      <td>2</td>\n",
       "    </tr>\n",
       "    <tr>\n",
       "      <th>96</th>\n",
       "      <td>0</td>\n",
       "      <td>36</td>\n",
       "      <td>0</td>\n",
       "      <td>7.2</td>\n",
       "      <td>8</td>\n",
       "      <td>60</td>\n",
       "      <td>0</td>\n",
       "      <td>0</td>\n",
       "      <td>68</td>\n",
       "      <td>7000</td>\n",
       "      <td>2</td>\n",
       "    </tr>\n",
       "    <tr>\n",
       "      <th>72</th>\n",
       "      <td>1</td>\n",
       "      <td>33</td>\n",
       "      <td>1</td>\n",
       "      <td>6.1</td>\n",
       "      <td>6</td>\n",
       "      <td>30</td>\n",
       "      <td>0</td>\n",
       "      <td>9</td>\n",
       "      <td>72</td>\n",
       "      <td>5000</td>\n",
       "      <td>2</td>\n",
       "    </tr>\n",
       "  </tbody>\n",
       "</table>\n",
       "</div>"
      ],
      "text/plain": [
       "     Gender  Age  Occupation  Sleep Duration  Quality of Sleep  \\\n",
       "220       0   44          10             6.6                 7   \n",
       "17        1   29           1             6.0                 6   \n",
       "62        1   32           1             6.2                 6   \n",
       "96        0   36           0             7.2                 8   \n",
       "72        1   33           1             6.1                 6   \n",
       "\n",
       "     Physical Activity Level  BMI Category  Blood Pressure  Heart Rate  \\\n",
       "220                       45             3              20          65   \n",
       "17                        30             0               6          70   \n",
       "62                        30             0               9          72   \n",
       "96                        60             0               0          68   \n",
       "72                        30             0               9          72   \n",
       "\n",
       "     Daily Steps  Sleep Disorder  \n",
       "220         6000               0  \n",
       "17          8000               1  \n",
       "62          5000               2  \n",
       "96          7000               2  \n",
       "72          5000               2  "
      ]
     },
     "execution_count": 80,
     "metadata": {},
     "output_type": "execute_result"
    }
   ],
   "source": [
    "from sklearn.model_selection import train_test_split\n",
    "\n",
    "X_train, X_test, y_train, y_test = train_test_split(\n",
    "    df_coded.drop(columns=['Stress Level']),\n",
    "    df_coded['Stress Level'],\n",
    "    test_size=0.2,\n",
    "    random_state=rn_state)\n",
    "X_train.head()"
   ]
  },
  {
   "cell_type": "markdown",
   "metadata": {},
   "source": [
    "Vamos a probar con regresión lineal"
   ]
  },
  {
   "cell_type": "code",
   "execution_count": 78,
   "metadata": {},
   "outputs": [],
   "source": [
    "from sklearn import linear_model\n",
    "\n",
    "regressor = linear_model.LinearRegression()\n",
    "regressor = regressor.fit(X_train, y_train)"
   ]
  },
  {
   "cell_type": "markdown",
   "metadata": {},
   "source": [
    "Con esto hemos entrenado un modelo, ahora podríamos simplemente utilizarlo para predecir el precio de una casa."
   ]
  },
  {
   "cell_type": "code",
   "execution_count": 82,
   "metadata": {},
   "outputs": [
    {
     "name": "stdout",
     "output_type": "stream",
     "text": [
      "4\n"
     ]
    },
    {
     "name": "stderr",
     "output_type": "stream",
     "text": [
      "/Users/jesusmartinmejias/anaconda3/lib/python3.11/site-packages/sklearn/base.py:464: UserWarning: X does not have valid feature names, but LinearRegression was fitted with feature names\n",
      "  warnings.warn(\n"
     ]
    }
   ],
   "source": [
    "example_data = [[0,44,10,6.6,7,45,3,20,65,6000,0]]\n",
    "prediction = regressor.predict(example_data)\n",
    "rounded_prediction = round(prediction[0])\n",
    "unique_values = df_coded['Stress Level'].unique()\n",
    "rounded_prediction = min(unique_values, key=lambda x:abs(x-rounded_prediction))\n",
    "print(rounded_prediction)\n"
   ]
  },
  {
   "cell_type": "markdown",
   "metadata": {},
   "source": [
    "Vamos a analizar los pesos de cada variable"
   ]
  },
  {
   "cell_type": "code",
   "execution_count": 83,
   "metadata": {},
   "outputs": [
    {
     "name": "stdout",
     "output_type": "stream",
     "text": [
      "8.21107370927054\n",
      "[ 7.64812033e-01  5.92559211e-02 -9.04236018e-02 -4.39930185e-01\n",
      " -1.14926877e+00 -1.09015465e-02 -1.54504974e-01 -2.79073685e-03\n",
      "  7.08394102e-02  2.82658635e-04  1.08937771e-01]\n"
     ]
    }
   ],
   "source": [
    "interceptor = regressor.intercept_\n",
    "weights = regressor.coef_\n",
    "print(interceptor)\n",
    "print(weights)"
   ]
  },
  {
   "cell_type": "markdown",
   "metadata": {},
   "source": [
    "Vamos a ver el R2 del modelo"
   ]
  },
  {
   "cell_type": "code",
   "execution_count": 84,
   "metadata": {},
   "outputs": [
    {
     "name": "stdout",
     "output_type": "stream",
     "text": [
      "R^2 del modelo: 0.95\n"
     ]
    }
   ],
   "source": [
    "score = regressor.score(X_train, y_train)\n",
    "print('R^2 del modelo: %.2f'% score)"
   ]
  },
  {
   "cell_type": "markdown",
   "metadata": {},
   "source": [
    "EL R2 es bastante alto, vamos a ver otras métricas"
   ]
  },
  {
   "cell_type": "code",
   "execution_count": 85,
   "metadata": {},
   "outputs": [
    {
     "name": "stdout",
     "output_type": "stream",
     "text": [
      "Mean absolute error: 0.27\n",
      "Mean squared error: 0.16\n"
     ]
    }
   ],
   "source": [
    "from sklearn.metrics import mean_squared_error, mean_absolute_error \n",
    "\n",
    "y_predicted = regressor.predict(X_train)\n",
    "print('Mean absolute error: %.2f' % mean_absolute_error(y_train, y_predicted))\n",
    "print('Mean squared error: %.2f' % mean_squared_error(y_train, y_predicted))"
   ]
  },
  {
   "cell_type": "markdown",
   "metadata": {},
   "source": [
    "El error medio absoluto es bajo\n",
    "\n",
    "El squared error es aun menos"
   ]
  },
  {
   "cell_type": "code",
   "execution_count": 86,
   "metadata": {},
   "outputs": [
    {
     "name": "stdout",
     "output_type": "stream",
     "text": [
      "Mean absolute error: 0.27\n",
      "Root Mean squared error: 0.40\n"
     ]
    }
   ],
   "source": [
    "print('Mean absolute error: %.2f' % mean_absolute_error(y_train, y_predicted))\n",
    "print('Root Mean squared error: %.2f' % np.sqrt(mean_squared_error(y_train, y_predicted)))"
   ]
  },
  {
   "cell_type": "markdown",
   "metadata": {},
   "source": [
    "Si los errores son correctos, deberíamos poder ver una varianza entre lo predicho y lo real de alrededor de 100.000 - 200.000 dolares."
   ]
  },
  {
   "cell_type": "code",
   "execution_count": 87,
   "metadata": {},
   "outputs": [
    {
     "name": "stdout",
     "output_type": "stream",
     "text": [
      "predicted: 4.26, actual: 4.00, difference: 0.26\n",
      "predicted: 8.05, actual: 8.00, difference: 0.05\n",
      "predicted: 7.54, actual: 8.00, difference: 0.46\n",
      "predicted: 4.34, actual: 4.00, difference: 0.34\n",
      "predicted: 7.64, actual: 8.00, difference: 0.36\n",
      "predicted: 3.99, actual: 3.00, difference: 0.99\n",
      "predicted: 3.02, actual: 3.00, difference: 0.02\n",
      "predicted: 2.79, actual: 3.00, difference: 0.21\n",
      "predicted: 2.91, actual: 3.00, difference: 0.09\n",
      "predicted: 8.81, actual: 8.00, difference: 0.81\n"
     ]
    }
   ],
   "source": [
    "for predicted, actual in zip(y_predicted[:10], y_train[:10]):\n",
    "    print(f'predicted: {predicted:.2f}, actual: {actual:.2f}, difference: {abs(predicted - actual):.2f}')"
   ]
  },
  {
   "cell_type": "markdown",
   "metadata": {},
   "source": [
    "Los errores parecen corresponderse a cifras con sentido, pero puede que haya varias cifras con errores muy grandes"
   ]
  },
  {
   "cell_type": "code",
   "execution_count": 90,
   "metadata": {},
   "outputs": [
    {
     "name": "stdout",
     "output_type": "stream",
     "text": [
      "big error predicted: 3.99, actual: 3.00, diferencia: 0.99\n",
      "big error predicted: 8.81, actual: 8.00, diferencia: 0.81\n",
      "big error predicted: 4.50, actual: 4.00, diferencia: 0.50\n",
      "big error predicted: 3.48, actual: 4.00, diferencia: 0.52\n",
      "big error predicted: 8.35, actual: 7.00, diferencia: 1.35\n",
      "big error predicted: 6.19, actual: 7.00, diferencia: 0.81\n",
      "big error predicted: 4.95, actual: 6.00, diferencia: 1.05\n",
      "big error predicted: 4.50, actual: 4.00, diferencia: 0.50\n",
      "big error predicted: 2.39, actual: 4.00, diferencia: 1.61\n",
      "big error predicted: 4.50, actual: 4.00, diferencia: 0.50\n",
      "big error predicted: 5.96, actual: 7.00, diferencia: 1.04\n"
     ]
    }
   ],
   "source": [
    "counter = 0\n",
    "for predicted, actual in zip(y_predicted, y_train):\n",
    "    if np.absolute(actual - predicted) > 0.50:\n",
    "        counter += 1\n",
    "        print(f'big error predicted: {predicted:.2f}, actual: {actual:.2f}, diferencia: {abs(predicted - actual):.2f}')\n",
    "        if counter > 10:\n",
    "            break"
   ]
  },
  {
   "cell_type": "markdown",
   "metadata": {},
   "source": [
    "Los errores más grandes se acercan a lo estimado por el RMSE. Por lo que es un error que nos indicará mejor por cuanto se equivoca el modelo en el peor de los casos.\n",
    "\n",
    "Aún podemos hacer algo mejor e intentar estimar en qué casos el modelo es más propenso a equivocarse."
   ]
  },
  {
   "cell_type": "code",
   "execution_count": 91,
   "metadata": {},
   "outputs": [
    {
     "data": {
      "image/png": "[encoded data removed]",
      "text/plain": [
       "<Figure size 640x480 with 1 Axes>"
      ]
     },
     "metadata": {},
     "output_type": "display_data"
    }
   ],
   "source": [
    "from matplotlib import pyplot as plt\n",
    "plt.scatter(y_train, y_predicted)\n",
    "plt.show()"
   ]
  },
  {
   "cell_type": "markdown",
   "metadata": {},
   "source": [
    "Aquí podemos ver que a precios bajos, nuestro modelo puede dar valores negativos, y que hay un ligero incremento de precisión a medida que aumenta el precio (Aunque muy ligero). Por lo general las métricas se van a mantener a lo largo de todo el rango de precios."
   ]
  },
  {
   "cell_type": "markdown",
   "metadata": {},
   "source": [
    "Por ahora hemos evaluado los resultados de entrenamiento, pero realmente lo que nos interesa es el resultado de test. Estos son datos que el modelo desconoce, y por lo tanto, nos darán una mejor idea de cómo se comportará el modelo en el mundo real."
   ]
  },
  {
   "cell_type": "code",
   "execution_count": 92,
   "metadata": {},
   "outputs": [
    {
     "name": "stdout",
     "output_type": "stream",
     "text": [
      "Train Mean absolute error: 0.27\n",
      "Train Mean squared error: 0.40\n",
      "Test Mean absolute error: 0.31\n",
      "Test Mean squared error: 0.52\n"
     ]
    }
   ],
   "source": [
    "y_predicted_train = regressor.predict(X_train)\n",
    "print('Train Mean absolute error: %.2f' % mean_absolute_error(y_train, y_predicted_train))\n",
    "print('Train Mean squared error: %.2f' % np.sqrt(mean_squared_error(y_train, y_predicted_train)))\n",
    "\n",
    "y_predicted = regressor.predict(X_test)\n",
    "print('Test Mean absolute error: %.2f' % mean_absolute_error(y_test, y_predicted))\n",
    "print('Test Mean squared error: %.2f' % np.sqrt(mean_squared_error(y_test, y_predicted)))"
   ]
  },
  {
   "cell_type": "markdown",
   "metadata": {},
   "source": [
    "Vemos que los resultados son similares, por lo que podemos estar seguros de que el modelo no está sobreajustado."
   ]
  },
  {
   "cell_type": "code",
   "execution_count": 93,
   "metadata": {},
   "outputs": [
    {
     "data": {
      "image/png": "[encoded data removed]",
      "text/plain": [
       "<Figure size 640x480 with 1 Axes>"
      ]
     },
     "metadata": {},
     "output_type": "display_data"
    }
   ],
   "source": [
    "plt.scatter(y_test, y_predicted)\n",
    "plt.show()"
   ]
  },
  {
   "cell_type": "markdown",
   "metadata": {},
   "source": [
    "Incluso en la gráfica vemos un comportamiento similar"
   ]
  },
  {
   "cell_type": "markdown",
   "metadata": {},
   "source": [
    "## Modelo LASSO"
   ]
  },
  {
   "cell_type": "markdown",
   "metadata": {},
   "source": [
    "En regresión lineal nos hemos parado más en cómo evaluar un modelo de regresión, que en el modelo en sí. Ahora vamos a ver un modelo de regresión lineal regularizado, LASSO.\n",
    "\n",
    "Vamos a ver que los pasos son similares sino idénticos a los de regresión lineal."
   ]
  },
  {
   "cell_type": "markdown",
   "metadata": {},
   "source": [
    "Cargamos el modelo y lo entrenamos"
   ]
  },
  {
   "cell_type": "code",
   "execution_count": 94,
   "metadata": {},
   "outputs": [],
   "source": [
    "lasso = linear_model.Lasso(alpha=0.1)\n",
    "lasso = lasso.fit(X_train, y_train)\n"
   ]
  },
  {
   "cell_type": "markdown",
   "metadata": {},
   "source": [
    "Este modelo ya podemos usarlo para hacer nuevas predicciones"
   ]
  },
  {
   "cell_type": "code",
   "execution_count": 96,
   "metadata": {},
   "outputs": [
    {
     "name": "stdout",
     "output_type": "stream",
     "text": [
      "5\n"
     ]
    },
    {
     "name": "stderr",
     "output_type": "stream",
     "text": [
      "/Users/jesusmartinmejias/anaconda3/lib/python3.11/site-packages/sklearn/base.py:464: UserWarning: X does not have valid feature names, but Lasso was fitted with feature names\n",
      "  warnings.warn(\n"
     ]
    }
   ],
   "source": [
    "example_data = [[0,44,10,6.6,7,45,3,20,65,6000,0]]\n",
    "prediction = lasso.predict(example_data)\n",
    "rounded_prediction = round(prediction[0])\n",
    "unique_values = df_coded['Stress Level'].unique()\n",
    "rounded_prediction = min(unique_values, key=lambda x:abs(x-rounded_prediction))\n",
    "print(rounded_prediction)"
   ]
  },
  {
   "cell_type": "markdown",
   "metadata": {},
   "source": [
    "Podemos calcular sus métricas de la misma forma"
   ]
  },
  {
   "cell_type": "code",
   "execution_count": 97,
   "metadata": {},
   "outputs": [
    {
     "name": "stdout",
     "output_type": "stream",
     "text": [
      "Mean absolute error: 0.40\n",
      "Root Mean squared error: 0.52\n"
     ]
    }
   ],
   "source": [
    "y_predicted = lasso.predict(X_train)\n",
    "print('Mean absolute error: %.2f' % mean_absolute_error(y_train, y_predicted))\n",
    "print('Root Mean squared error: %.2f' % np.sqrt(mean_squared_error(y_train, y_predicted)))"
   ]
  },
  {
   "cell_type": "markdown",
   "metadata": {},
   "source": [
    "Y podemos visualizarlo igual"
   ]
  },
  {
   "cell_type": "code",
   "execution_count": 98,
   "metadata": {},
   "outputs": [
    {
     "data": {
      "image/png": "[encoded data removed]",
      "text/plain": [
       "<Figure size 640x480 with 1 Axes>"
      ]
     },
     "metadata": {},
     "output_type": "display_data"
    }
   ],
   "source": [
    "plt.scatter(y_train, y_predicted)\n",
    "plt.show()"
   ]
  },
  {
   "cell_type": "markdown",
   "metadata": {},
   "source": [
    "Igual en test"
   ]
  },
  {
   "cell_type": "code",
   "execution_count": 99,
   "metadata": {},
   "outputs": [
    {
     "name": "stdout",
     "output_type": "stream",
     "text": [
      "Mean absolute error: 0.45\n",
      "Root Mean squared error: 0.61\n"
     ]
    }
   ],
   "source": [
    "y_predicted = lasso.predict(X_test)\n",
    "print('Mean absolute error: %.2f' % mean_absolute_error(y_test, y_predicted))\n",
    "print('Root Mean squared error: %.2f' % np.sqrt(mean_squared_error(y_test, y_predicted)))"
   ]
  },
  {
   "cell_type": "code",
   "execution_count": 100,
   "metadata": {},
   "outputs": [
    {
     "data": {
      "image/png": "[encoded data removed]",
      "text/plain": [
       "<Figure size 640x480 with 1 Axes>"
      ]
     },
     "metadata": {},
     "output_type": "display_data"
    }
   ],
   "source": [
    "plt.scatter(y_test, y_predicted)\n",
    "plt.show()"
   ]
  },
  {
   "cell_type": "markdown",
   "metadata": {},
   "source": [
    "# Vamos a probar con un arbol de decisión"
   ]
  },
  {
   "cell_type": "code",
   "execution_count": 105,
   "metadata": {},
   "outputs": [],
   "source": [
    "from sklearn.model_selection import train_test_split\n",
    "\n",
    "X_train, X_test, y_train, y_test = train_test_split(\n",
    "    df_coded.drop(columns=['Stress Level']),\n",
    "    df_coded['Stress Level'],\n",
    "    test_size=0.2,\n",
    "    random_state=rn_state)"
   ]
  },
  {
   "cell_type": "markdown",
   "metadata": {},
   "source": [
    "Vamos a ver los valores "
   ]
  },
  {
   "cell_type": "code",
   "execution_count": 107,
   "metadata": {},
   "outputs": [
    {
     "name": "stdout",
     "output_type": "stream",
     "text": [
      "train accuracy: 1.00\n",
      "test accuracy: 0.99\n"
     ]
    }
   ],
   "source": [
    "DT = tree.DecisionTreeClassifier(random_state=rn_state)\n",
    "DT = DT.fit(X_train, y_train)\n",
    "print('train accuracy: %.2f' % DT.score(X_train, y_train))\n",
    "print('test accuracy: %.2f' % DT.score(X_test, y_test))"
   ]
  },
  {
   "cell_type": "code",
   "execution_count": 110,
   "metadata": {},
   "outputs": [
    {
     "name": "stdout",
     "output_type": "stream",
     "text": [
      "precision: 0.99\n",
      "recall: 0.98\n",
      "f1: 0.98\n"
     ]
    }
   ],
   "source": [
    "from sklearn.metrics import precision_score, recall_score, f1_score\n",
    "\n",
    "y_predicted = DT.predict(X_test)\n",
    "print('precision: %.2f' % precision_score(y_test, y_predicted, average='macro'))\n",
    "print('recall: %.2f' % recall_score(y_test, y_predicted, average='macro'))\n",
    "print('f1: %.2f' % f1_score(y_test, y_predicted, average='macro'))"
   ]
  },
  {
   "cell_type": "markdown",
   "metadata": {},
   "source": [
    "Vemos que el arbol de decisión es un mejor modelo que la regresión linear. Vamos a probar con random forest"
   ]
  },
  {
   "cell_type": "code",
   "execution_count": 113,
   "metadata": {},
   "outputs": [
    {
     "name": "stdout",
     "output_type": "stream",
     "text": [
      "test accuracy: 1.00\n",
      "test precision: 0.99\n",
      "test recall: 0.98\n",
      "test f1: 0.98\n"
     ]
    }
   ],
   "source": [
    "random_forest = RandomForestClassifier(random_state=rn_state)\n",
    "random_forest = random_forest.fit(X_train, y_train)\n",
    "print('test accuracy: %.2f' % random_forest.score(X_test, y_test))\n",
    "print('test precision: %.2f' % precision_score(y_test, y_predicted, average='macro'))\n",
    "print('test recall: %.2f' % recall_score(y_test, y_predicted, average='macro'))\n",
    "print('test f1: %.2f' % f1_score(y_test, y_predicted, average='macro'))"
   ]
  },
  {
   "cell_type": "markdown",
   "metadata": {},
   "source": [
    "# Conclusiones"
   ]
  },
  {
   "cell_type": "markdown",
   "metadata": {},
   "source": [
    "En ambos casos el mejor modelo es random forest"
   ]
  }
 ],
 "metadata": {
  "kernelspec": {
   "display_name": ".venv",
   "language": "python",
   "name": "python3"
  },
  "language_info": {
   "codemirror_mode": {
    "name": "ipython",
    "version": 3
   },
   "file_extension": ".py",
   "mimetype": "text/x-python",
   "name": "python",
   "nbconvert_exporter": "python",
   "pygments_lexer": "ipython3",
   "version": "3.11.5"
  },
  "orig_nbformat": 4
 },
 "nbformat": 4,
 "nbformat_minor": 2
}
