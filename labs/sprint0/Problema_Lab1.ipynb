{
 "cells": [
  {
   "cell_type": "markdown",
   "metadata": {},
   "source": [
    "### Bienvenido a IceCream Avenue"
   ]
  },
  {
   "cell_type": "markdown",
   "metadata": {},
   "source": [
    "Bienvenido a _Ice Cream Avenue_. Comenzarás tu prueba aquí calculando los precios de los helados. Si el cono vale 0.5€, ,la bola de helado vale 2€, y cada topping 0.25€, calcula el precio de un helado de cono con 2 bolas y 3 toppings. Para ello, define variables en Python y aplica operaciones numéricas entre ellas"
   ]
  },
  {
   "cell_type": "code",
   "execution_count": 20,
   "metadata": {},
   "outputs": [
    {
     "data": {
      "text/plain": [
       "12.5"
      ]
     },
     "execution_count": 20,
     "metadata": {},
     "output_type": "execute_result"
    }
   ],
   "source": [
    "def precio_helado(conos, bolas, toppings):\n",
    "    cono = 0.5\n",
    "    bola = 2\n",
    "    topping = 0.25\n",
    "    return cono*conos+bola*bolas+toppings*topping\n",
    "precio_helado(2,5,6)\n"
   ]
  },
  {
   "cell_type": "markdown",
   "metadata": {},
   "source": [
    "### Reemplazar caracteres"
   ]
  },
  {
   "cell_type": "markdown",
   "metadata": {},
   "source": [
    "_Ice Cream Avenue_ ha cambiado su logotipo y ahora quiere que todos los nombres de los helados empiecen por mayúscula y que las \"o\" se reemplacen por \"0\". Escribe un programa que reciba el nombre de un helado y devuelva el nombre modificado."
   ]
  },
  {
   "cell_type": "code",
   "execution_count": 21,
   "metadata": {},
   "outputs": [
    {
     "data": {
      "text/plain": [
       "'HeladO'"
      ]
     },
     "execution_count": 21,
     "metadata": {},
     "output_type": "execute_result"
    }
   ],
   "source": [
    "cambiar_nombre = lambda nombre : nombre.capitalize().replace('o', 'O')\n",
    "\n",
    "cambiar_nombre(\"helado\") "
   ]
  },
  {
   "cell_type": "markdown",
   "metadata": {
    "ExecuteTime": {
     "end_time": "2023-04-28T18:24:39.243559Z",
     "start_time": "2023-04-28T18:24:39.219559Z"
    }
   },
   "source": [
    "### Al revés"
   ]
  },
  {
   "cell_type": "markdown",
   "metadata": {
    "ExecuteTime": {
     "end_time": "2023-04-28T18:24:39.243559Z",
     "start_time": "2023-04-28T18:24:39.219559Z"
    }
   },
   "source": [
    "Por alguna extraña estrategia de marketing, _Ice Cream Avenue_ quiere escribir el nombre de sus helados al revés. Escribe un programa que reciba el nombre de un helado y lo imprima al revés."
   ]
  },
  {
   "cell_type": "code",
   "execution_count": 22,
   "metadata": {},
   "outputs": [
    {
     "data": {
      "text/plain": [
       "'suseJ'"
      ]
     },
     "execution_count": 22,
     "metadata": {},
     "output_type": "execute_result"
    }
   ],
   "source": [
    "reverse_name = lambda nombre : nombre[::-1]\n",
    "reverse_name(\"Jesus\")"
   ]
  },
  {
   "cell_type": "markdown",
   "metadata": {},
   "source": [
    "### Contar vocales"
   ]
  },
  {
   "cell_type": "markdown",
   "metadata": {},
   "source": [
    "_Ice Cream Avenue_ quiere saber cuántas vocales hay en el nombre de cada helado para colorearlas en sus carteles. Escribe una función llamada contar_vocales que reciba un parámetro: el nombre de un helado, y que devuelva el número de vocales que contiene."
   ]
  },
  {
   "cell_type": "code",
   "execution_count": 23,
   "metadata": {},
   "outputs": [
    {
     "data": {
      "text/plain": [
       "2"
      ]
     },
     "execution_count": 23,
     "metadata": {},
     "output_type": "execute_result"
    }
   ],
   "source": [
    "def contar_vocales(palabra):\n",
    "    vocales = \"aeiouAEIOUáéíóúÁÉÍÓÚ\"\n",
    "    contador_vocales = 0\n",
    "    for letra in palabra:\n",
    "        if letra in vocales:\n",
    "            contador_vocales += 1\n",
    "    return contador_vocales \n",
    "\n",
    "contar_vocales(\"Jesús\")\n"
   ]
  },
  {
   "cell_type": "markdown",
   "metadata": {},
   "source": [
    "### Descuento por cantidad de productos"
   ]
  },
  {
   "cell_type": "markdown",
   "metadata": {},
   "source": [
    "En _Ice Cream Avenue_ se quiere implementar una política de descuentos para sus clientes. Si un cliente compra más de 5 helados, se le aplicará un descuento del 20% en el total de la compra, y si compra entre 3 y 5 helados, el descuento aplicado será del 10%. Si compra menos de 3 helados, no se le aplicará ningún descuento. \n",
    "Sabiendo que el precio de los helados es de 3€, escribe una función que reciba el número de helados y calcule el precio total de la compra con el descuento correspondiente. Prueba el correcto funcionamiento haciendo una llamada a la función con algún ejemplo"
   ]
  },
  {
   "cell_type": "code",
   "execution_count": 24,
   "metadata": {},
   "outputs": [
    {
     "data": {
      "text/plain": [
       "48.0"
      ]
     },
     "execution_count": 24,
     "metadata": {},
     "output_type": "execute_result"
    }
   ],
   "source": [
    "def calcular_precio_helados(numero_helados):\n",
    "    precio_helados = 3*numero_helados\n",
    "    if numero_helados > 5:\n",
    "        precio_helados = precio_helados*0.8\n",
    "    elif numero_helados > 2 & numero_helados < 5:\n",
    "        precio_helados = precio_helados*0.9\n",
    "    return precio_helados\n",
    "calcular_precio_helados(20) \n"
   ]
  },
  {
   "cell_type": "markdown",
   "metadata": {},
   "source": [
    "### Encontrar la palabra más larga"
   ]
  },
  {
   "cell_type": "markdown",
   "metadata": {},
   "source": [
    "La empresa 'Ice Cream Avenue' quiere saber cuál es la palabra más larga en los nombres de sus helados. Escribe una función que reciba una lista de nombres de helados y devuelva la palabra más larga."
   ]
  },
  {
   "cell_type": "code",
   "execution_count": 25,
   "metadata": {},
   "outputs": [
    {
     "data": {
      "text/plain": [
       "'camaleón'"
      ]
     },
     "execution_count": 25,
     "metadata": {},
     "output_type": "execute_result"
    }
   ],
   "source": [
    "def encontrar_palabra_mas_larga(nombre_helado):\n",
    "    palabras = nombre_helado.split();\n",
    "    palabra_mas_larga=\"\"\n",
    "    for palabra in palabras:\n",
    "        if len(palabra) > len(palabra_mas_larga):\n",
    "            palabra_mas_larga = palabra\n",
    "    return palabra_mas_larga\n",
    "encontrar_palabra_mas_larga(\"El camaleón con botas se fue de parranda\")"
   ]
  },
  {
   "cell_type": "markdown",
   "metadata": {},
   "source": [
    "### Sabor con más ventas"
   ]
  },
  {
   "cell_type": "markdown",
   "metadata": {},
   "source": [
    "Escribe una función que reciba un número variable de parametros que indiquen diferentes sabores, cuyos respectivos valores sean las ventas de esos sabores. La función debe devolvernos cuál es el sabor con más ventas, y el número de ventas"
   ]
  },
  {
   "cell_type": "code",
   "execution_count": 26,
   "metadata": {},
   "outputs": [
    {
     "data": {
      "text/plain": [
       "\"El sabor más vendido es 'vainilla'\""
      ]
     },
     "execution_count": 26,
     "metadata": {},
     "output_type": "execute_result"
    }
   ],
   "source": [
    "def sabor_con_mas_ventas(**sabores_ventas):\n",
    "    if not sabores_ventas:\n",
    "        return \"No se han proporcionado sabores\"\n",
    "    sabor_mas_vendido = None\n",
    "    ventas_mas_altas = 0\n",
    "    for sabor,ventas in sabores_ventas.items():\n",
    "        if ventas > ventas_mas_altas:\n",
    "            ventas_mas_altas = ventas\n",
    "            sabor_mas_vendido = sabor \n",
    "    if sabor_mas_vendido is None:\n",
    "        return \"no se puede determinar el sabor con más ventas\"\n",
    "    else:\n",
    "        return f\"El sabor más vendido es '{sabor_mas_vendido}'\"\n",
    "ventas_de_helados = {\n",
    "    'chocolate': 50,\n",
    "    'vainilla': 75,\n",
    "    'fresa': 60,\n",
    "    'caramelo': 45,\n",
    "    'limón': 55\n",
    "}\n",
    "sabor_con_mas_ventas(**ventas_de_helados)"
   ]
  },
  {
   "cell_type": "markdown",
   "metadata": {},
   "source": [
    "### Crear descuentos"
   ]
  },
  {
   "cell_type": "markdown",
   "metadata": {},
   "source": [
    "Define una función llamada crear_descuento que tome como parámetro una palabra y un porcentaje de descuento, y cree un string con la palabra en mayúsculas seguida del descuento en tanto por ciento. Por ejemplo, con los valores de parámetros helados y 0.5 debe devolver HELADOS50. El porcentaje de descuento debe ser un float mayor que 0 y menor que 1, de lo contrario la función debe levantar una excepción DiscountError indicando que el porcentaje de descuento no es válido. Utiliza un bloque try-except para manejar otras excepciones."
   ]
  },
  {
   "cell_type": "code",
   "execution_count": 32,
   "metadata": {},
   "outputs": [
    {
     "data": {
      "text/plain": [
       "'HELADOS10'"
      ]
     },
     "execution_count": 32,
     "metadata": {},
     "output_type": "execute_result"
    }
   ],
   "source": [
    "class DiscountError(Exception):\n",
    "    pass\n",
    "def crear_descuento(palabra, porcentaje_descuento):\n",
    "    try:\n",
    "        if not (0 < porcentaje_descuento < 1):\n",
    "            raise DiscountError(\"El porcentaje de descuento no es válido.\")\n",
    "        return palabra.upper()+str(int(porcentaje_descuento*100))\n",
    "    except DiscountError as e:\n",
    "            return f\"Error: {e}\"\n",
    "    except Exception as e:\n",
    "        return f\"Error inesperado: {e}\"\n",
    "crear_descuento(\"helados\", 0.1)\n",
    "\n"
   ]
  }
 ],
 "metadata": {
  "kernelspec": {
   "display_name": "Python 3",
   "language": "python",
   "name": "python3"
  },
  "language_info": {
   "codemirror_mode": {
    "name": "ipython",
    "version": 3
   },
   "file_extension": ".py",
   "mimetype": "text/x-python",
   "name": "python",
   "nbconvert_exporter": "python",
   "pygments_lexer": "ipython3",
   "version": "3.11.5"
  }
 },
 "nbformat": 4,
 "nbformat_minor": 2
}
